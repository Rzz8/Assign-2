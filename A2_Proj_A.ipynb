{
 "cells": [
  {
   "cell_type": "code",
   "execution_count": 1,
   "id": "f222c260-29c9-43c6-abe0-d2b9afb9e66c",
   "metadata": {
    "tags": []
   },
   "outputs": [
    {
     "name": "stdout",
     "output_type": "stream",
     "text": [
      "<class 'pandas.core.frame.DataFrame'>\n",
      "RangeIndex: 19663 entries, 0 to 19662\n",
      "Data columns (total 8 columns):\n",
      " #   Column       Non-Null Count  Dtype  \n",
      "---  ------       --------------  -----  \n",
      " 0   InvoiceNo    19663 non-null  int64  \n",
      " 1   StockCode    19663 non-null  object \n",
      " 2   Description  19075 non-null  object \n",
      " 3   Quantity     19663 non-null  int64  \n",
      " 4   InvoiceDate  19663 non-null  object \n",
      " 5   UnitPrice    19663 non-null  float64\n",
      " 6   CustomerID   15678 non-null  float64\n",
      " 7   Country      19663 non-null  object \n",
      "dtypes: float64(2), int64(2), object(4)\n",
      "memory usage: 1.2+ MB\n"
     ]
    }
   ],
   "source": [
    "import pandas as pd\n",
    "\n",
    "df = pd.read_csv('D1.csv')\n",
    "df.info()"
   ]
  },
  {
   "cell_type": "code",
   "execution_count": 2,
   "id": "506ad94c-419a-4d3a-83fe-6637bd93293e",
   "metadata": {
    "tags": []
   },
   "outputs": [
    {
     "name": "stdout",
     "output_type": "stream",
     "text": [
      "<class 'pandas.core.frame.DataFrame'>\n",
      "Index: 19075 entries, 0 to 19662\n",
      "Data columns (total 8 columns):\n",
      " #   Column       Non-Null Count  Dtype  \n",
      "---  ------       --------------  -----  \n",
      " 0   InvoiceNo    19075 non-null  int64  \n",
      " 1   StockCode    19075 non-null  object \n",
      " 2   Description  19075 non-null  object \n",
      " 3   Quantity     19075 non-null  int64  \n",
      " 4   InvoiceDate  19075 non-null  object \n",
      " 5   UnitPrice    19075 non-null  float64\n",
      " 6   CustomerID   15678 non-null  float64\n",
      " 7   Country      19075 non-null  object \n",
      "dtypes: float64(2), int64(2), object(4)\n",
      "memory usage: 1.3+ MB\n"
     ]
    }
   ],
   "source": [
    "df2 = df.dropna(subset=['Description']).copy()\n",
    "df2.info()"
   ]
  },
  {
   "cell_type": "code",
   "execution_count": 3,
   "id": "112f5ca6-41d3-4832-887f-52ea83985db3",
   "metadata": {
    "tags": []
   },
   "outputs": [
    {
     "data": {
      "text/plain": [
       "array(['85123A', '84879', '22386', '20725', '21212', '22457', '22469',\n",
       "       '85099B', '20727', '22423', '47566', '85123a', '22720'],\n",
       "      dtype=object)"
      ]
     },
     "execution_count": 3,
     "metadata": {},
     "output_type": "execute_result"
    }
   ],
   "source": [
    "df2['StockCode'].unique()"
   ]
  },
  {
   "cell_type": "code",
   "execution_count": 4,
   "id": "1c31f854-b46c-401e-b0e2-af1b44f178de",
   "metadata": {
    "tags": []
   },
   "outputs": [
    {
     "data": {
      "text/plain": [
       "array(['WHITE HANGING HEART T-LIGHT HOLDER',\n",
       "       'ASSORTED COLOUR BIRD ORNAMENT', 'JUMBO BAG PINK POLKADOT',\n",
       "       'LUNCH BAG RED RETROSPOT', 'PACK OF 72 RETROSPOT CAKE CASES',\n",
       "       'NATURAL SLATE HEART CHALKBOARD ', 'HEART OF WICKER SMALL',\n",
       "       'JUMBO BAG RED RETROSPOT', 'LUNCH BAG  BLACK SKULL.',\n",
       "       'REGENCY CAKESTAND 3 TIER', 'PARTY BUNTING',\n",
       "       'SET OF 3 CAKE TINS PANTRY DESIGN '], dtype=object)"
      ]
     },
     "execution_count": 4,
     "metadata": {},
     "output_type": "execute_result"
    }
   ],
   "source": [
    "df2['Description'].unique()"
   ]
  },
  {
   "cell_type": "code",
   "execution_count": 5,
   "id": "06681cb5-b8b2-48e3-ae3c-96f5893e8fdb",
   "metadata": {
    "tags": []
   },
   "outputs": [],
   "source": [
    "# number of StockCode is much larger than the Description, so it seems useless\n",
    "# for the same item, the stockcode will change\n",
    "# need to transform categorical values to numerical values for use"
   ]
  },
  {
   "cell_type": "code",
   "execution_count": 6,
   "id": "d9d30908-d257-44b6-9a12-49fa34650209",
   "metadata": {
    "tags": []
   },
   "outputs": [
    {
     "name": "stdout",
     "output_type": "stream",
     "text": [
      "InvoiceNo\n",
      "536365                 [WHITE HANGING HEART T-LIGHT HOLDER]\n",
      "536367                      [ASSORTED COLOUR BIRD ORNAMENT]\n",
      "536373                 [WHITE HANGING HEART T-LIGHT HOLDER]\n",
      "536375                 [WHITE HANGING HEART T-LIGHT HOLDER]\n",
      "536378    [JUMBO BAG PINK POLKADOT, LUNCH BAG RED RETROS...\n",
      "536384    [NATURAL SLATE HEART CHALKBOARD , HEART OF WIC...\n",
      "536386                            [JUMBO BAG RED RETROSPOT]\n",
      "536388                              [HEART OF WICKER SMALL]\n",
      "536390    [WHITE HANGING HEART T-LIGHT HOLDER, JUMBO BAG...\n",
      "536392                      [ASSORTED COLOUR BIRD ORNAMENT]\n",
      "Name: Description, dtype: object\n"
     ]
    }
   ],
   "source": [
    "transactions = df2.groupby('InvoiceNo')['Description'].apply(list)\n",
    "print(transactions.head(10))"
   ]
  },
  {
   "cell_type": "code",
   "execution_count": 7,
   "id": "a2485abf-eebc-43fb-ab13-38570751a46f",
   "metadata": {
    "tags": []
   },
   "outputs": [
    {
     "name": "stdout",
     "output_type": "stream",
     "text": [
      "<class 'pandas.core.series.Series'>\n",
      "Index: 9568 entries, 536365 to 581585\n",
      "Series name: Description\n",
      "Non-Null Count  Dtype \n",
      "--------------  ----- \n",
      "9568 non-null   object\n",
      "dtypes: object(1)\n",
      "memory usage: 149.5+ KB\n",
      "None\n"
     ]
    }
   ],
   "source": [
    "print(transactions.info())"
   ]
  },
  {
   "cell_type": "code",
   "execution_count": 8,
   "id": "d387cd94-d465-499d-a5a2-2261170f2ca9",
   "metadata": {
    "tags": []
   },
   "outputs": [],
   "source": [
    "# Q: What pre-processing was required on the dataset before building the association mining model? \n",
    "# A: First check missing values. \"CustomerID\" and \"Description\" have missing values. \"CustomerID\" is not used so that's okay; however, samples with \n",
    "#    missing values from \"Descrition\" should be removed. \n",
    "#    Then find out what variables represent unique ID for products. I examined \"StockCode\" and \"Description\" and found that \"Descriptions\" with 13 unique values \n",
    "#    represents the unique ID for products.  \n",
    "\n",
    "# Q: What variables did you include in the analysis? Justify your choice.\n",
    "# A: The \"Descriptions\" and \"InvoiceNo\" will be used in the analysis. Becasue \"Descriptions\" is unique for purchased products and \"InvoiceNo\" is unique for each\n",
    "#    purchase. Using this two variables, we can know what products were bought each time and hence can find associted items/products. "
   ]
  },
  {
   "cell_type": "code",
   "execution_count": 9,
   "id": "9b373e5d-757e-4a14-a54e-552865dc1a6e",
   "metadata": {
    "tags": []
   },
   "outputs": [
    {
     "name": "stdout",
     "output_type": "stream",
     "text": [
      "[RelationRecord(items=frozenset({'ASSORTED COLOUR BIRD ORNAMENT'}), support=0.15206939799331104, ordered_statistics=[OrderedStatistic(items_base=frozenset(), items_add=frozenset({'ASSORTED COLOUR BIRD ORNAMENT'}), confidence=0.15206939799331104, lift=1.0)]), RelationRecord(items=frozenset({'HEART OF WICKER SMALL'}), support=0.12552257525083613, ordered_statistics=[OrderedStatistic(items_base=frozenset(), items_add=frozenset({'HEART OF WICKER SMALL'}), confidence=0.12552257525083613, lift=1.0)]), RelationRecord(items=frozenset({'JUMBO BAG PINK POLKADOT'}), support=0.12729933110367894, ordered_statistics=[OrderedStatistic(items_base=frozenset(), items_add=frozenset({'JUMBO BAG PINK POLKADOT'}), confidence=0.12729933110367894, lift=1.0)]), RelationRecord(items=frozenset({'JUMBO BAG RED RETROSPOT'}), support=0.21864548494983277, ordered_statistics=[OrderedStatistic(items_base=frozenset(), items_add=frozenset({'JUMBO BAG RED RETROSPOT'}), confidence=0.21864548494983277, lift=1.0)]), RelationRecord(items=frozenset({'LUNCH BAG  BLACK SKULL.'}), support=0.13304765886287626, ordered_statistics=[OrderedStatistic(items_base=frozenset(), items_add=frozenset({'LUNCH BAG  BLACK SKULL.'}), confidence=0.13304765886287626, lift=1.0)])]\n"
     ]
    }
   ],
   "source": [
    "# Note that we have 13 items and the support level should be small to capture meaningful results. 1/13=0.076 (suppose one item was purchase, and the\n",
    "# chance of it was purchase is 0.076). So I choose 0.02 as the minimum support. The typical confidence level is usually between 0.5-0.9 and I choose\n",
    "# 0.5, so that means when item A is purhcased, at least 50% chance that it will be followed by B purchased\n",
    "\n",
    "from apyori import apriori\n",
    "# type cast the transactions from pandas into normal list format and run apriori\n",
    "transaction_list = list(transactions)\n",
    "results = list(apriori(transaction_list, min_support=0.02, confidence=0.5))\n",
    "# print first 5 rules\n",
    "print(results[:5])"
   ]
  },
  {
   "cell_type": "code",
   "execution_count": 10,
   "id": "b633a601-76ab-4b4f-a0a8-b4c8acf0fdd8",
   "metadata": {
    "tags": []
   },
   "outputs": [
    {
     "name": "stdout",
     "output_type": "stream",
     "text": [
      "<class 'pandas.core.frame.DataFrame'>\n",
      "RangeIndex: 173 entries, 0 to 172\n",
      "Data columns (total 5 columns):\n",
      " #   Column      Non-Null Count  Dtype  \n",
      "---  ------      --------------  -----  \n",
      " 0   Left_side   173 non-null    object \n",
      " 1   Right_side  173 non-null    object \n",
      " 2   Support     173 non-null    float64\n",
      " 3   Confidence  173 non-null    float64\n",
      " 4   Lift        173 non-null    float64\n",
      "dtypes: float64(3), object(2)\n",
      "memory usage: 6.9+ KB\n",
      "None\n",
      "                        Left_side  \\\n",
      "0                                   \n",
      "1                                   \n",
      "2                                   \n",
      "3                                   \n",
      "4                                   \n",
      "5                                   \n",
      "6                                   \n",
      "7                                   \n",
      "8                                   \n",
      "9                                   \n",
      "10                                  \n",
      "11                                  \n",
      "12                                  \n",
      "13  ASSORTED COLOUR BIRD ORNAMENT   \n",
      "14                  PARTY BUNTING   \n",
      "15                                  \n",
      "16  ASSORTED COLOUR BIRD ORNAMENT   \n",
      "17       REGENCY CAKESTAND 3 TIER   \n",
      "18                                  \n",
      "19  ASSORTED COLOUR BIRD ORNAMENT   \n",
      "\n",
      "                                           Right_side   Support  Confidence  \\\n",
      "0                       ASSORTED COLOUR BIRD ORNAMENT  0.152069    0.152069   \n",
      "1                               HEART OF WICKER SMALL  0.125523    0.125523   \n",
      "2                             JUMBO BAG PINK POLKADOT  0.127299    0.127299   \n",
      "3                             JUMBO BAG RED RETROSPOT  0.218645    0.218645   \n",
      "4                             LUNCH BAG  BLACK SKULL.  0.133048    0.133048   \n",
      "5                             LUNCH BAG RED RETROSPOT  0.163462    0.163462   \n",
      "6                     NATURAL SLATE HEART CHALKBOARD   0.130539    0.130539   \n",
      "7                     PACK OF 72 RETROSPOT CAKE CASES  0.137960    0.137960   \n",
      "8                                       PARTY BUNTING  0.176212    0.176212   \n",
      "9                            REGENCY CAKESTAND 3 TIER  0.207880    0.207880   \n",
      "10                  SET OF 3 CAKE TINS PANTRY DESIGN   0.144753    0.144753   \n",
      "11                 WHITE HANGING HEART T-LIGHT HOLDER  0.236204    0.236204   \n",
      "12        ASSORTED COLOUR BIRD ORNAMENT,PARTY BUNTING  0.024457    0.024457   \n",
      "13                                      PARTY BUNTING  0.024457    0.160825   \n",
      "14                      ASSORTED COLOUR BIRD ORNAMENT  0.024457    0.138790   \n",
      "15  ASSORTED COLOUR BIRD ORNAMENT,REGENCY CAKESTAN...  0.028219    0.028219   \n",
      "16                           REGENCY CAKESTAND 3 TIER  0.028219    0.185567   \n",
      "17                      ASSORTED COLOUR BIRD ORNAMENT  0.028219    0.135747   \n",
      "18  ASSORTED COLOUR BIRD ORNAMENT,WHITE HANGING HE...  0.033758    0.033758   \n",
      "19                 WHITE HANGING HEART T-LIGHT HOLDER  0.033758    0.221993   \n",
      "\n",
      "        Lift  \n",
      "0   1.000000  \n",
      "1   1.000000  \n",
      "2   1.000000  \n",
      "3   1.000000  \n",
      "4   1.000000  \n",
      "5   1.000000  \n",
      "6   1.000000  \n",
      "7   1.000000  \n",
      "8   1.000000  \n",
      "9   1.000000  \n",
      "10  1.000000  \n",
      "11  1.000000  \n",
      "12  1.000000  \n",
      "13  0.912676  \n",
      "14  0.912676  \n",
      "15  1.000000  \n",
      "16  0.892662  \n",
      "17  0.892662  \n",
      "18  1.000000  \n",
      "19  0.939836  \n"
     ]
    }
   ],
   "source": [
    "def convert_apriori_results_to_pandas_df(results):\n",
    "    rules = []\n",
    "    for rule_set in results:\n",
    "        for rule in rule_set.ordered_statistics:\n",
    "# items_base = left side of rules, items_add = right side\n",
    "# support, confidence and lift for respective rules\n",
    "            rules.append([','.join(rule.items_base), ','.join(rule.items_add),\n",
    "                rule_set.support, rule.confidence, rule.lift])\n",
    "# typecast it to pandas df\n",
    "    return pd.DataFrame(rules, columns=['Left_side', 'Right_side', 'Support', 'Confidence', 'Lift'])\n",
    "result_df = convert_apriori_results_to_pandas_df(results)\n",
    "print(result_df.info())\n",
    "print(result_df.head(20))"
   ]
  },
  {
   "cell_type": "code",
   "execution_count": 11,
   "id": "ce912635-f446-444f-949f-d912348d2348",
   "metadata": {},
   "outputs": [
    {
     "name": "stdout",
     "output_type": "stream",
     "text": [
      "<class 'pandas.core.frame.DataFrame'>\n",
      "Index: 12 entries, 26 to 169\n",
      "Data columns (total 5 columns):\n",
      " #   Column      Non-Null Count  Dtype  \n",
      "---  ------      --------------  -----  \n",
      " 0   Left_side   12 non-null     object \n",
      " 1   Right_side  12 non-null     object \n",
      " 2   Support     12 non-null     float64\n",
      " 3   Confidence  12 non-null     float64\n",
      " 4   Lift        12 non-null     float64\n",
      "dtypes: float64(3), object(2)\n",
      "memory usage: 576.0+ bytes\n",
      "None\n"
     ]
    }
   ],
   "source": [
    "specific_value = 'LUNCH BAG RED RETROSPOT'\n",
    "filtered_df = result_df[result_df['Left_side'] == specific_value]\n",
    "print(filtered_df.info())"
   ]
  },
  {
   "cell_type": "code",
   "execution_count": 12,
   "id": "f211e882-1f54-4e62-a931-d49ab3dddd67",
   "metadata": {
    "tags": []
   },
   "outputs": [
    {
     "name": "stdout",
     "output_type": "stream",
     "text": [
      "                   Left_side                                       Right_side  \\\n",
      "169  LUNCH BAG RED RETROSPOT  LUNCH BAG  BLACK SKULL.,JUMBO BAG RED RETROSPOT   \n",
      "83   LUNCH BAG RED RETROSPOT                          LUNCH BAG  BLACK SKULL.   \n",
      "162  LUNCH BAG RED RETROSPOT  JUMBO BAG RED RETROSPOT,JUMBO BAG PINK POLKADOT   \n",
      "62   LUNCH BAG RED RETROSPOT                          JUMBO BAG RED RETROSPOT   \n",
      "50   LUNCH BAG RED RETROSPOT                          JUMBO BAG PINK POLKADOT   \n",
      "100  LUNCH BAG RED RETROSPOT                  PACK OF 72 RETROSPOT CAKE CASES   \n",
      "103  LUNCH BAG RED RETROSPOT                                    PARTY BUNTING   \n",
      "97   LUNCH BAG RED RETROSPOT                  NATURAL SLATE HEART CHALKBOARD    \n",
      "26   LUNCH BAG RED RETROSPOT                            HEART OF WICKER SMALL   \n",
      "109  LUNCH BAG RED RETROSPOT                SET OF 3 CAKE TINS PANTRY DESIGN    \n",
      "112  LUNCH BAG RED RETROSPOT               WHITE HANGING HEART T-LIGHT HOLDER   \n",
      "106  LUNCH BAG RED RETROSPOT                         REGENCY CAKESTAND 3 TIER   \n",
      "\n",
      "      Support  Confidence      Lift  \n",
      "169  0.024561    0.150256  3.823529  \n",
      "83   0.066994    0.409847  3.080449  \n",
      "162  0.026024    0.159207  1.846417  \n",
      "62   0.060514    0.370205  1.693173  \n",
      "50   0.033758    0.206522  1.622332  \n",
      "100  0.036162    0.221228  1.603565  \n",
      "103  0.033340    0.203964  1.157491  \n",
      "97   0.022784    0.139386  1.067772  \n",
      "26   0.020276    0.124041  0.988196  \n",
      "109  0.022575    0.138107  0.954088  \n",
      "112  0.034594    0.211637  0.895992  \n",
      "106  0.028846    0.176471  0.848904  \n"
     ]
    }
   ],
   "source": [
    "filtered_df = filtered_df.sort_values(by='Lift', ascending=False)\n",
    "print(filtered_df)"
   ]
  },
  {
   "cell_type": "code",
   "execution_count": 13,
   "id": "16e7480d-b382-44bf-a198-c6e4c5833f55",
   "metadata": {
    "tags": []
   },
   "outputs": [],
   "source": [
    "# Q: Identify top-5 common items that customers have purchased along with ‘LUNCHBAG RED RETROSPOT’.\n",
    "# A: Top 5 common items that customers have purchased along with 'LUNCHBAG RED RETROSPOT' are 'JUMBO BAG RED RETROSPOT', 'LUNCH BAG BLACK SKULL'\n",
    "# 'JUMBO BAG PINK POLKADOT', 'PACK OF 72 RETROSPOT CAKE CASES', AND 'PARTY BUNTING'"
   ]
  },
  {
   "cell_type": "code",
   "execution_count": 14,
   "id": "5353ae05-8aa4-4d48-a5d2-04a3407bff27",
   "metadata": {
    "tags": []
   },
   "outputs": [],
   "source": [
    "# Q: Can you perform sequence analysis on this dataset? If yes, present your results. Ifnot, rationalise why.\n",
    "# A: Yes, as we have CustomerID and InvoiceDate in the dateset. "
   ]
  },
  {
   "cell_type": "code",
   "execution_count": null,
   "id": "086276d1-bbab-4e62-aa56-8603bbf98074",
   "metadata": {},
   "outputs": [],
   "source": []
  }
 ],
 "metadata": {
  "kernelspec": {
   "display_name": "Python 3 (ipykernel)",
   "language": "python",
   "name": "python3"
  },
  "language_info": {
   "codemirror_mode": {
    "name": "ipython",
    "version": 3
   },
   "file_extension": ".py",
   "mimetype": "text/x-python",
   "name": "python",
   "nbconvert_exporter": "python",
   "pygments_lexer": "ipython3",
   "version": "3.11.5"
  }
 },
 "nbformat": 4,
 "nbformat_minor": 5
}
