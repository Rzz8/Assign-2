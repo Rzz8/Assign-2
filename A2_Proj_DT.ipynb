{
 "cells": [
  {
   "cell_type": "code",
   "execution_count": 1,
   "id": "8215db84-1a9e-49d8-a078-230426367368",
   "metadata": {
    "tags": []
   },
   "outputs": [
    {
     "name": "stdout",
     "output_type": "stream",
     "text": [
      "<class 'pandas.core.frame.DataFrame'>\n",
      "RangeIndex: 142219 entries, 0 to 142218\n",
      "Data columns (total 23 columns):\n",
      " #   Column         Non-Null Count   Dtype  \n",
      "---  ------         --------------   -----  \n",
      " 0   Year           142219 non-null  int64  \n",
      " 1   Month          142219 non-null  int64  \n",
      " 2   Location       142219 non-null  object \n",
      " 3   MinTemp        142219 non-null  float64\n",
      " 4   MaxTemp        142219 non-null  float64\n",
      " 5   Rainfall       142219 non-null  float64\n",
      " 6   Evaporation    142219 non-null  float64\n",
      " 7   Sunshine       142219 non-null  float64\n",
      " 8   WindGustDir    142219 non-null  object \n",
      " 9   WindGustSpeed  142219 non-null  int64  \n",
      " 10  WindDir9am     142219 non-null  object \n",
      " 11  WindDir3pm     142219 non-null  object \n",
      " 12  WindSpeed9am   142219 non-null  int64  \n",
      " 13  WindSpeed3pm   142219 non-null  int64  \n",
      " 14  Humidity9am    142219 non-null  float64\n",
      " 15  Humidity3pm    142219 non-null  float64\n",
      " 16  Pressure9am    142219 non-null  float64\n",
      " 17  Pressure3pm    142219 non-null  float64\n",
      " 18  Cloud9am       142219 non-null  int64  \n",
      " 19  Cloud3pm       142219 non-null  int64  \n",
      " 20  Temp9am        142219 non-null  float64\n",
      " 21  Temp3pm        142219 non-null  float64\n",
      " 22  RainTomorrow   142219 non-null  int64  \n",
      "dtypes: float64(11), int64(8), object(4)\n",
      "memory usage: 25.0+ MB\n",
      "None\n"
     ]
    }
   ],
   "source": [
    "import pandas as pd\n",
    "import numpy as np\n",
    "\n",
    "df = pd.read_csv('D3.csv')\n",
    "print(df.info())"
   ]
  },
  {
   "cell_type": "code",
   "execution_count": 2,
   "id": "f2c84de5-1d85-498c-b363-bfd671339520",
   "metadata": {
    "tags": []
   },
   "outputs": [],
   "source": [
    "# Some general thoughts and takeaways from the data processing in the Assignment 1 regarding the input variables\n",
    "# 1. Year will not be used as this input is unique and is not informative (like ID)\n",
    "# 2. Month will be used as rainy days usually happen in several months on a yearly basis.\n",
    "# 3. MinTemp and MaxTemp are highly correlated (R=0.74), and these two variables will be combined to a new variable \"Temp\".\n",
    "# 4. Rainfall, Evaporation, and Sunshine are skewed. DT is not sensitive to the scale of variables so they will remain unchanged.\n",
    "# 5. Wind info (dir or speed) will be used.\n",
    "# 6. Humidity info will be used. \n",
    "# 7. Pressure9am and Pressure3pm are highly correlated and will be combine to a new variable \"Pressure\".\n",
    "# 8. Cloud9am and Cloud3pm are removed due to their high correlation with Sunshine.\n",
    "# 9. Temp9am and Temp3pm are removed due to their high correlation with MinTemp.\n",
    "\n",
    "# In summary, \"Year, Cloud9am, Cloud3pm, Temp9am and Temp3pm\" are removed. \"MinTemp and MaxTemp\" => \"Temp\". \"Pressure9am and Pressure3pm\" => \"Pressure\". \n",
    "# It is expected to have 15 input variables after processing. "
   ]
  },
  {
   "cell_type": "code",
   "execution_count": 3,
   "id": "c7f092de-4ef6-4139-9fbc-86e2b6ace09e",
   "metadata": {
    "tags": []
   },
   "outputs": [
    {
     "name": "stdout",
     "output_type": "stream",
     "text": [
      "<class 'pandas.core.frame.DataFrame'>\n",
      "RangeIndex: 142219 entries, 0 to 142218\n",
      "Columns: 109 entries, Month to WindDir3pm_WSW\n",
      "dtypes: bool(97), float64(7), int64(5)\n",
      "memory usage: 26.2 MB\n",
      "None\n"
     ]
    }
   ],
   "source": [
    "# This block of code will do the processing as mentioned above. The processed data may need further processing for LR and NN. \n",
    "\n",
    "# Drop columns that should be removed due to high correlation with other variables\n",
    "columns_to_drop = ['Year', 'Cloud9am', 'Cloud3pm', 'Temp9am', 'Temp3pm']\n",
    "df2 = df.drop(columns=columns_to_drop)\n",
    "\n",
    "# Create new averaged variables \"Temp\" and \"Pressure\" and then drop 4 columns used for creating these variables\n",
    "df2['Pressure'] = (df2['Pressure9am'] + df2['Pressure3pm'])/2\n",
    "df2['Temp'] = (df2['MinTemp'] + df2['MaxTemp'])/2\n",
    "columns_to_drop2 = ['Pressure9am', 'Pressure3pm', 'MinTemp', 'MaxTemp']\n",
    "df2 = df2.drop(columns=columns_to_drop2)\n",
    "\n",
    "# Use one-hot encoding for categorical variables\n",
    "df2 = pd.get_dummies(df2)\n",
    "print(df2.info())\n",
    "\n",
    "# Target/input split\n",
    "y = df2['RainTomorrow']\n",
    "X = df2.drop(['RainTomorrow'], axis=1)\n",
    "\n",
    "# Split the data into training and testing data\n",
    "from sklearn.model_selection import train_test_split\n",
    "\n",
    "rs = 10\n",
    "X_mat = X.to_numpy()\n",
    "X_train, X_test, y_train, y_test = train_test_split(X_mat, y, test_size=0.3, stratify=y, random_state=rs)"
   ]
  },
  {
   "cell_type": "code",
   "execution_count": 5,
   "id": "5a2ab9ee-8626-4b7a-88bf-072341ccfa9d",
   "metadata": {
    "tags": []
   },
   "outputs": [
    {
     "data": {
      "text/html": [
       "<style>#sk-container-id-2 {color: black;}#sk-container-id-2 pre{padding: 0;}#sk-container-id-2 div.sk-toggleable {background-color: white;}#sk-container-id-2 label.sk-toggleable__label {cursor: pointer;display: block;width: 100%;margin-bottom: 0;padding: 0.3em;box-sizing: border-box;text-align: center;}#sk-container-id-2 label.sk-toggleable__label-arrow:before {content: \"▸\";float: left;margin-right: 0.25em;color: #696969;}#sk-container-id-2 label.sk-toggleable__label-arrow:hover:before {color: black;}#sk-container-id-2 div.sk-estimator:hover label.sk-toggleable__label-arrow:before {color: black;}#sk-container-id-2 div.sk-toggleable__content {max-height: 0;max-width: 0;overflow: hidden;text-align: left;background-color: #f0f8ff;}#sk-container-id-2 div.sk-toggleable__content pre {margin: 0.2em;color: black;border-radius: 0.25em;background-color: #f0f8ff;}#sk-container-id-2 input.sk-toggleable__control:checked~div.sk-toggleable__content {max-height: 200px;max-width: 100%;overflow: auto;}#sk-container-id-2 input.sk-toggleable__control:checked~label.sk-toggleable__label-arrow:before {content: \"▾\";}#sk-container-id-2 div.sk-estimator input.sk-toggleable__control:checked~label.sk-toggleable__label {background-color: #d4ebff;}#sk-container-id-2 div.sk-label input.sk-toggleable__control:checked~label.sk-toggleable__label {background-color: #d4ebff;}#sk-container-id-2 input.sk-hidden--visually {border: 0;clip: rect(1px 1px 1px 1px);clip: rect(1px, 1px, 1px, 1px);height: 1px;margin: -1px;overflow: hidden;padding: 0;position: absolute;width: 1px;}#sk-container-id-2 div.sk-estimator {font-family: monospace;background-color: #f0f8ff;border: 1px dotted black;border-radius: 0.25em;box-sizing: border-box;margin-bottom: 0.5em;}#sk-container-id-2 div.sk-estimator:hover {background-color: #d4ebff;}#sk-container-id-2 div.sk-parallel-item::after {content: \"\";width: 100%;border-bottom: 1px solid gray;flex-grow: 1;}#sk-container-id-2 div.sk-label:hover label.sk-toggleable__label {background-color: #d4ebff;}#sk-container-id-2 div.sk-serial::before {content: \"\";position: absolute;border-left: 1px solid gray;box-sizing: border-box;top: 0;bottom: 0;left: 50%;z-index: 0;}#sk-container-id-2 div.sk-serial {display: flex;flex-direction: column;align-items: center;background-color: white;padding-right: 0.2em;padding-left: 0.2em;position: relative;}#sk-container-id-2 div.sk-item {position: relative;z-index: 1;}#sk-container-id-2 div.sk-parallel {display: flex;align-items: stretch;justify-content: center;background-color: white;position: relative;}#sk-container-id-2 div.sk-item::before, #sk-container-id-2 div.sk-parallel-item::before {content: \"\";position: absolute;border-left: 1px solid gray;box-sizing: border-box;top: 0;bottom: 0;left: 50%;z-index: -1;}#sk-container-id-2 div.sk-parallel-item {display: flex;flex-direction: column;z-index: 1;position: relative;background-color: white;}#sk-container-id-2 div.sk-parallel-item:first-child::after {align-self: flex-end;width: 50%;}#sk-container-id-2 div.sk-parallel-item:last-child::after {align-self: flex-start;width: 50%;}#sk-container-id-2 div.sk-parallel-item:only-child::after {width: 0;}#sk-container-id-2 div.sk-dashed-wrapped {border: 1px dashed gray;margin: 0 0.4em 0.5em 0.4em;box-sizing: border-box;padding-bottom: 0.4em;background-color: white;}#sk-container-id-2 div.sk-label label {font-family: monospace;font-weight: bold;display: inline-block;line-height: 1.2em;}#sk-container-id-2 div.sk-label-container {text-align: center;}#sk-container-id-2 div.sk-container {/* jupyter's `normalize.less` sets `[hidden] { display: none; }` but bootstrap.min.css set `[hidden] { display: none !important; }` so we also need the `!important` here to be able to override the default hidden behavior on the sphinx rendered scikit-learn.org. See: https://github.com/scikit-learn/scikit-learn/issues/21755 */display: inline-block !important;position: relative;}#sk-container-id-2 div.sk-text-repr-fallback {display: none;}</style><div id=\"sk-container-id-2\" class=\"sk-top-container\"><div class=\"sk-text-repr-fallback\"><pre>DecisionTreeClassifier(random_state=10)</pre><b>In a Jupyter environment, please rerun this cell to show the HTML representation or trust the notebook. <br />On GitHub, the HTML representation is unable to render, please try loading this page with nbviewer.org.</b></div><div class=\"sk-container\" hidden><div class=\"sk-item\"><div class=\"sk-estimator sk-toggleable\"><input class=\"sk-toggleable__control sk-hidden--visually\" id=\"sk-estimator-id-2\" type=\"checkbox\" checked><label for=\"sk-estimator-id-2\" class=\"sk-toggleable__label sk-toggleable__label-arrow\">DecisionTreeClassifier</label><div class=\"sk-toggleable__content\"><pre>DecisionTreeClassifier(random_state=10)</pre></div></div></div></div></div>"
      ],
      "text/plain": [
       "DecisionTreeClassifier(random_state=10)"
      ]
     },
     "execution_count": 5,
     "metadata": {},
     "output_type": "execute_result"
    }
   ],
   "source": [
    "from sklearn.tree import DecisionTreeClassifier\n",
    "from sklearn.metrics import classification_report, accuracy_score\n",
    "\n",
    "model = DecisionTreeClassifier(random_state=rs)\n",
    "model.fit(X_train, y_train)"
   ]
  },
  {
   "cell_type": "code",
   "execution_count": 6,
   "id": "38285566-55e0-40ca-8370-bf86f649375f",
   "metadata": {
    "tags": []
   },
   "outputs": [
    {
     "name": "stdout",
     "output_type": "stream",
     "text": [
      "Train accuracy: 1.0\n"
     ]
    }
   ],
   "source": [
    "print(\"Train accuracy:\", model.score(X_train, y_train))"
   ]
  },
  {
   "cell_type": "code",
   "execution_count": 7,
   "id": "27a382be-9f44-4c59-83d6-ac4a5eb895ba",
   "metadata": {
    "tags": []
   },
   "outputs": [
    {
     "name": "stdout",
     "output_type": "stream",
     "text": [
      "Test accuracy: 0.7896920264379131\n"
     ]
    }
   ],
   "source": [
    "print(\"Test accuracy:\", model.score(X_test, y_test))"
   ]
  },
  {
   "cell_type": "code",
   "execution_count": 8,
   "id": "5d704536-f850-436c-b2d8-141c95928f6f",
   "metadata": {
    "tags": []
   },
   "outputs": [
    {
     "name": "stdout",
     "output_type": "stream",
     "text": [
      "              precision    recall  f1-score   support\n",
      "\n",
      "           0       0.87      0.86      0.86     33101\n",
      "           1       0.53      0.54      0.54      9565\n",
      "\n",
      "    accuracy                           0.79     42666\n",
      "   macro avg       0.70      0.70      0.70     42666\n",
      "weighted avg       0.79      0.79      0.79     42666\n",
      "\n"
     ]
    }
   ],
   "source": [
    "y_pred = model.predict(X_test)\n",
    "print(classification_report(y_test, y_pred))"
   ]
  },
  {
   "cell_type": "code",
   "execution_count": 9,
   "id": "5188a531-3246-4ba7-a5a4-1285c532a1a4",
   "metadata": {
    "tags": []
   },
   "outputs": [
    {
     "name": "stdout",
     "output_type": "stream",
     "text": [
      "Humidity3pm : 0.26132657865677433\n",
      "Pressure : 0.07591182617007108\n",
      "Temp : 0.06895866715286508\n",
      "Rainfall : 0.06330962076075361\n",
      "WindGustSpeed : 0.06304829749754523\n",
      "Sunshine : 0.051526894430997824\n",
      "Humidity9am : 0.04959451140877614\n",
      "WindSpeed3pm : 0.03694270033351973\n",
      "WindSpeed9am : 0.036262430454805684\n",
      "Evaporation : 0.031926694146998016\n",
      "Month : 0.026509314717523807\n",
      "WindDir9am_N : 0.004892770067147711\n",
      "WindDir3pm_N : 0.004719413877613991\n",
      "WindDir3pm_NNW : 0.004409830463576683\n",
      "WindDir3pm_NW : 0.004332151838350789\n",
      "WindGustDir_NE : 0.0040641614203426185\n",
      "WindGustDir_N : 0.003943209675050949\n",
      "WindGustDir_SW : 0.003865272899875789\n",
      "WindGustDir_S : 0.003855641382263514\n",
      "WindDir9am_NW : 0.0037752246636565054\n"
     ]
    }
   ],
   "source": [
    "# grab feature importances from the model and feature name from the original X\n",
    "importances = model.feature_importances_\n",
    "feature_names = X.columns\n",
    "\n",
    "# sort them out in descending order\n",
    "indices = np.argsort(importances)\n",
    "indices = np.flip(indices, axis=0)\n",
    "\n",
    "# limit to 20 features, you can leave this out to print out everything\n",
    "indices = indices[:20]\n",
    "\n",
    "for i in indices:\n",
    "    print(feature_names[i], ':', importances[i])"
   ]
  },
  {
   "cell_type": "code",
   "execution_count": 10,
   "id": "6a689534-bb31-4b31-a0be-828efcba59c6",
   "metadata": {
    "tags": []
   },
   "outputs": [],
   "source": [
    "# import pydot\n",
    "# from io import StringIO\n",
    "# from sklearn.tree import export_graphviz\n",
    "\n",
    "# # visualize\n",
    "# dotfile = StringIO()\n",
    "# export_graphviz(model, out_file=dotfile, feature_names=X.columns)\n",
    "# graph = pydot.graph_from_dot_data(dotfile.getvalue())\n",
    "# graph.write_png(\"dt_visualization.png\") # saved in the following file - will return True if successful"
   ]
  },
  {
   "cell_type": "code",
   "execution_count": 11,
   "id": "7a7363fb-19cf-4e8f-b981-1c731420a01d",
   "metadata": {
    "tags": []
   },
   "outputs": [
    {
     "name": "stdout",
     "output_type": "stream",
     "text": [
      "8\n"
     ]
    }
   ],
   "source": [
    "print(model.tree_.feature[0])"
   ]
  },
  {
   "cell_type": "code",
   "execution_count": 12,
   "id": "5bc4cc0f-12c2-4076-962c-5fe1b3cdc0e0",
   "metadata": {
    "tags": []
   },
   "outputs": [
    {
     "name": "stdout",
     "output_type": "stream",
     "text": [
      "Humidity3pm\n"
     ]
    }
   ],
   "source": [
    "print(feature_names[8])"
   ]
  },
  {
   "cell_type": "code",
   "execution_count": 13,
   "id": "9841ecf0-ead4-4077-b056-73a5afdfad36",
   "metadata": {
    "tags": []
   },
   "outputs": [
    {
     "name": "stdout",
     "output_type": "stream",
     "text": [
      "24485 12243\n"
     ]
    }
   ],
   "source": [
    "num_nodes = model.tree_.node_count\n",
    "num_leaves = model.get_n_leaves()\n",
    "\n",
    "print(num_nodes, num_leaves)"
   ]
  },
  {
   "cell_type": "code",
   "execution_count": 14,
   "id": "7f118ff7-424a-43b3-b77b-e5504913a760",
   "metadata": {
    "tags": []
   },
   "outputs": [
    {
     "data": {
      "text/html": [
       "<style>#sk-container-id-3 {color: black;}#sk-container-id-3 pre{padding: 0;}#sk-container-id-3 div.sk-toggleable {background-color: white;}#sk-container-id-3 label.sk-toggleable__label {cursor: pointer;display: block;width: 100%;margin-bottom: 0;padding: 0.3em;box-sizing: border-box;text-align: center;}#sk-container-id-3 label.sk-toggleable__label-arrow:before {content: \"▸\";float: left;margin-right: 0.25em;color: #696969;}#sk-container-id-3 label.sk-toggleable__label-arrow:hover:before {color: black;}#sk-container-id-3 div.sk-estimator:hover label.sk-toggleable__label-arrow:before {color: black;}#sk-container-id-3 div.sk-toggleable__content {max-height: 0;max-width: 0;overflow: hidden;text-align: left;background-color: #f0f8ff;}#sk-container-id-3 div.sk-toggleable__content pre {margin: 0.2em;color: black;border-radius: 0.25em;background-color: #f0f8ff;}#sk-container-id-3 input.sk-toggleable__control:checked~div.sk-toggleable__content {max-height: 200px;max-width: 100%;overflow: auto;}#sk-container-id-3 input.sk-toggleable__control:checked~label.sk-toggleable__label-arrow:before {content: \"▾\";}#sk-container-id-3 div.sk-estimator input.sk-toggleable__control:checked~label.sk-toggleable__label {background-color: #d4ebff;}#sk-container-id-3 div.sk-label input.sk-toggleable__control:checked~label.sk-toggleable__label {background-color: #d4ebff;}#sk-container-id-3 input.sk-hidden--visually {border: 0;clip: rect(1px 1px 1px 1px);clip: rect(1px, 1px, 1px, 1px);height: 1px;margin: -1px;overflow: hidden;padding: 0;position: absolute;width: 1px;}#sk-container-id-3 div.sk-estimator {font-family: monospace;background-color: #f0f8ff;border: 1px dotted black;border-radius: 0.25em;box-sizing: border-box;margin-bottom: 0.5em;}#sk-container-id-3 div.sk-estimator:hover {background-color: #d4ebff;}#sk-container-id-3 div.sk-parallel-item::after {content: \"\";width: 100%;border-bottom: 1px solid gray;flex-grow: 1;}#sk-container-id-3 div.sk-label:hover label.sk-toggleable__label {background-color: #d4ebff;}#sk-container-id-3 div.sk-serial::before {content: \"\";position: absolute;border-left: 1px solid gray;box-sizing: border-box;top: 0;bottom: 0;left: 50%;z-index: 0;}#sk-container-id-3 div.sk-serial {display: flex;flex-direction: column;align-items: center;background-color: white;padding-right: 0.2em;padding-left: 0.2em;position: relative;}#sk-container-id-3 div.sk-item {position: relative;z-index: 1;}#sk-container-id-3 div.sk-parallel {display: flex;align-items: stretch;justify-content: center;background-color: white;position: relative;}#sk-container-id-3 div.sk-item::before, #sk-container-id-3 div.sk-parallel-item::before {content: \"\";position: absolute;border-left: 1px solid gray;box-sizing: border-box;top: 0;bottom: 0;left: 50%;z-index: -1;}#sk-container-id-3 div.sk-parallel-item {display: flex;flex-direction: column;z-index: 1;position: relative;background-color: white;}#sk-container-id-3 div.sk-parallel-item:first-child::after {align-self: flex-end;width: 50%;}#sk-container-id-3 div.sk-parallel-item:last-child::after {align-self: flex-start;width: 50%;}#sk-container-id-3 div.sk-parallel-item:only-child::after {width: 0;}#sk-container-id-3 div.sk-dashed-wrapped {border: 1px dashed gray;margin: 0 0.4em 0.5em 0.4em;box-sizing: border-box;padding-bottom: 0.4em;background-color: white;}#sk-container-id-3 div.sk-label label {font-family: monospace;font-weight: bold;display: inline-block;line-height: 1.2em;}#sk-container-id-3 div.sk-label-container {text-align: center;}#sk-container-id-3 div.sk-container {/* jupyter's `normalize.less` sets `[hidden] { display: none; }` but bootstrap.min.css set `[hidden] { display: none !important; }` so we also need the `!important` here to be able to override the default hidden behavior on the sphinx rendered scikit-learn.org. See: https://github.com/scikit-learn/scikit-learn/issues/21755 */display: inline-block !important;position: relative;}#sk-container-id-3 div.sk-text-repr-fallback {display: none;}</style><div id=\"sk-container-id-3\" class=\"sk-top-container\"><div class=\"sk-text-repr-fallback\"><pre>GridSearchCV(cv=10, estimator=DecisionTreeClassifier(random_state=10),\n",
       "             param_grid={&#x27;criterion&#x27;: [&#x27;gini&#x27;, &#x27;entropy&#x27;],\n",
       "                         &#x27;max_depth&#x27;: range(1, 16),\n",
       "                         &#x27;min_samples_leaf&#x27;: range(5, 25, 5)},\n",
       "             return_train_score=True)</pre><b>In a Jupyter environment, please rerun this cell to show the HTML representation or trust the notebook. <br />On GitHub, the HTML representation is unable to render, please try loading this page with nbviewer.org.</b></div><div class=\"sk-container\" hidden><div class=\"sk-item sk-dashed-wrapped\"><div class=\"sk-label-container\"><div class=\"sk-label sk-toggleable\"><input class=\"sk-toggleable__control sk-hidden--visually\" id=\"sk-estimator-id-3\" type=\"checkbox\" ><label for=\"sk-estimator-id-3\" class=\"sk-toggleable__label sk-toggleable__label-arrow\">GridSearchCV</label><div class=\"sk-toggleable__content\"><pre>GridSearchCV(cv=10, estimator=DecisionTreeClassifier(random_state=10),\n",
       "             param_grid={&#x27;criterion&#x27;: [&#x27;gini&#x27;, &#x27;entropy&#x27;],\n",
       "                         &#x27;max_depth&#x27;: range(1, 16),\n",
       "                         &#x27;min_samples_leaf&#x27;: range(5, 25, 5)},\n",
       "             return_train_score=True)</pre></div></div></div><div class=\"sk-parallel\"><div class=\"sk-parallel-item\"><div class=\"sk-item\"><div class=\"sk-label-container\"><div class=\"sk-label sk-toggleable\"><input class=\"sk-toggleable__control sk-hidden--visually\" id=\"sk-estimator-id-4\" type=\"checkbox\" ><label for=\"sk-estimator-id-4\" class=\"sk-toggleable__label sk-toggleable__label-arrow\">estimator: DecisionTreeClassifier</label><div class=\"sk-toggleable__content\"><pre>DecisionTreeClassifier(random_state=10)</pre></div></div></div><div class=\"sk-serial\"><div class=\"sk-item\"><div class=\"sk-estimator sk-toggleable\"><input class=\"sk-toggleable__control sk-hidden--visually\" id=\"sk-estimator-id-5\" type=\"checkbox\" ><label for=\"sk-estimator-id-5\" class=\"sk-toggleable__label sk-toggleable__label-arrow\">DecisionTreeClassifier</label><div class=\"sk-toggleable__content\"><pre>DecisionTreeClassifier(random_state=10)</pre></div></div></div></div></div></div></div></div></div></div>"
      ],
      "text/plain": [
       "GridSearchCV(cv=10, estimator=DecisionTreeClassifier(random_state=10),\n",
       "             param_grid={'criterion': ['gini', 'entropy'],\n",
       "                         'max_depth': range(1, 16),\n",
       "                         'min_samples_leaf': range(5, 25, 5)},\n",
       "             return_train_score=True)"
      ]
     },
     "execution_count": 14,
     "metadata": {},
     "output_type": "execute_result"
    }
   ],
   "source": [
    "from sklearn.model_selection import GridSearchCV\n",
    "\n",
    "# grid search CV\n",
    "params = {'criterion': ['gini', 'entropy'],\n",
    "          'max_depth': range(1, 16),\n",
    "          'min_samples_leaf': range(0, 25, 5)[1:]}\n",
    "\n",
    "cv_1 = GridSearchCV(param_grid=params, estimator=DecisionTreeClassifier(random_state=rs),return_train_score=True, cv=10)\n",
    "cv_1.fit(X_train, y_train)"
   ]
  },
  {
   "cell_type": "code",
   "execution_count": 15,
   "id": "4018441b-1c93-478f-b473-ccf26f47dc16",
   "metadata": {},
   "outputs": [
    {
     "name": "stdout",
     "output_type": "stream",
     "text": [
      "{'criterion': 'gini', 'max_depth': 8, 'min_samples_leaf': 5}\n"
     ]
    }
   ],
   "source": [
    "print(cv_1.best_params_)"
   ]
  },
  {
   "cell_type": "code",
   "execution_count": 16,
   "id": "f8cb9a48-fb3b-4ef5-bdee-649ab0cb8bb8",
   "metadata": {},
   "outputs": [
    {
     "name": "stdout",
     "output_type": "stream",
     "text": [
      "Train accuracy: 0.8488342892730505\n",
      "Test accuracy: 0.8411850185159143\n"
     ]
    }
   ],
   "source": [
    "print(\"Train accuracy:\", cv_1.score(X_train, y_train))\n",
    "print(\"Test accuracy:\", cv_1.score(X_test, y_test))"
   ]
  },
  {
   "cell_type": "code",
   "execution_count": 18,
   "id": "ad6c7062-7fa0-4376-9f87-f39ad20b256d",
   "metadata": {},
   "outputs": [
    {
     "name": "stdout",
     "output_type": "stream",
     "text": [
      "475 238\n"
     ]
    }
   ],
   "source": [
    "num_nodes = cv_1.best_estimator_.tree_.node_count\n",
    "num_leaves = cv_1.best_estimator_.get_n_leaves()\n",
    "\n",
    "print(num_nodes, num_leaves)"
   ]
  },
  {
   "cell_type": "code",
   "execution_count": 19,
   "id": "6fb9b45f-d500-46a3-a62c-1f8f12b2469b",
   "metadata": {},
   "outputs": [
    {
     "name": "stdout",
     "output_type": "stream",
     "text": [
      "8\n"
     ]
    }
   ],
   "source": [
    "print(cv_1.best_estimator_.tree_.feature[0])"
   ]
  },
  {
   "cell_type": "code",
   "execution_count": 20,
   "id": "9d3dfd4a-7d93-45e5-8ce4-501e7777d35a",
   "metadata": {},
   "outputs": [
    {
     "name": "stdout",
     "output_type": "stream",
     "text": [
      "Humidity3pm\n"
     ]
    }
   ],
   "source": [
    "print(feature_names[8])"
   ]
  },
  {
   "cell_type": "code",
   "execution_count": 21,
   "id": "ada71f6c-9034-484e-9fbb-2149d962e6a7",
   "metadata": {},
   "outputs": [
    {
     "name": "stdout",
     "output_type": "stream",
     "text": [
      "Humidity3pm : 0.6210886371783307\n",
      "Rainfall : 0.1013670287873209\n",
      "WindGustSpeed : 0.07786988178691295\n",
      "Pressure : 0.06931905985641469\n",
      "Sunshine : 0.06489778479388851\n",
      "Temp : 0.017297934703712024\n",
      "Humidity9am : 0.010426928406427534\n",
      "WindSpeed3pm : 0.005571413233730641\n",
      "Location_MountGinini : 0.0036902773321136743\n",
      "WindSpeed9am : 0.002731845904030169\n",
      "Evaporation : 0.0024920007843218643\n",
      "WindDir3pm_NNW : 0.002172839329360932\n",
      "Location_Albany : 0.002149410626922742\n",
      "Location_Wollongong : 0.0020068298629072273\n",
      "WindDir3pm_N : 0.0016369502393569556\n",
      "WindGustDir_NE : 0.0015878863415322696\n",
      "Location_Brisbane : 0.0015085686366425846\n",
      "WindDir9am_NNE : 0.001215868033739137\n",
      "Location_NorahHead : 0.0011290139783953137\n",
      "Location_Dartmoor : 0.0010830494231520303\n"
     ]
    }
   ],
   "source": [
    "### Enter your code here\n",
    "importances = cv_1.best_estimator_.feature_importances_\n",
    "feature_names = X.columns\n",
    "\n",
    "# sort them out in descending order\n",
    "indices = np.argsort(importances)\n",
    "indices = np.flip(indices, axis=0)\n",
    "\n",
    "# limit to 20 features, you can leave this out to print out everything\n",
    "indices = indices[:20]\n",
    "\n",
    "for i in indices:\n",
    "    print(feature_names[i], ':', importances[i])"
   ]
  },
  {
   "cell_type": "code",
   "execution_count": null,
   "id": "1ff724e8-8a71-47fb-af4a-04946d4cd097",
   "metadata": {},
   "outputs": [],
   "source": [
    "# Overfitting during the cross validation process"
   ]
  },
  {
   "cell_type": "code",
   "execution_count": 22,
   "id": "dddc5ef6-13c8-4b46-bb07-603f18a041b8",
   "metadata": {},
   "outputs": [
    {
     "name": "stdout",
     "output_type": "stream",
     "text": [
      "Accuracy score on test for DT_default: 0.7896920264379131\n",
      "Accuracy score on test for DT_optimal 0.8411850185159143\n"
     ]
    }
   ],
   "source": [
    "y_pred_dt = model.predict(X_test)\n",
    "y_pred_dt_cv = cv_1.best_estimator_.predict(X_test)\n",
    "\n",
    "print(\"Accuracy score on test for DT_default:\", accuracy_score(y_test, y_pred_dt))\n",
    "print(\"Accuracy score on test for DT_optimal\", accuracy_score(y_test, y_pred_dt_cv))"
   ]
  },
  {
   "cell_type": "code",
   "execution_count": 23,
   "id": "8b62e147-35ab-434d-bf73-f0ae8cc742ce",
   "metadata": {
    "tags": []
   },
   "outputs": [
    {
     "name": "stdout",
     "output_type": "stream",
     "text": [
      "ROC index on test for DT_default: 0.7014758391340492\n",
      "ROC index on test for DT_optimal: 0.8497667982639836\n"
     ]
    }
   ],
   "source": [
    "from sklearn.metrics import roc_auc_score\n",
    "y_pred_proba_dt = model.predict_proba(X_test)\n",
    "y_pred_proba_dt_cv = cv_1.best_estimator_.predict_proba(X_test)\n",
    "\n",
    "roc_index_dt = roc_auc_score(y_test, y_pred_proba_dt[:, 1])\n",
    "roc_index_dt_cv = roc_auc_score(y_test, y_pred_proba_dt_cv[:, 1])\n",
    "\n",
    "print(\"ROC index on test for DT_default:\", roc_index_dt)\n",
    "print(\"ROC index on test for DT_optimal:\", roc_index_dt_cv)"
   ]
  },
  {
   "cell_type": "code",
   "execution_count": 24,
   "id": "06e34938-a9d0-4cef-8f6e-1d08f776af6f",
   "metadata": {
    "tags": []
   },
   "outputs": [],
   "source": [
    "from sklearn.metrics import roc_curve\n",
    "\n",
    "fpr_dt, tpr_dt, thresholds_dt = roc_curve(y_test, y_pred_proba_dt[:,1])\n",
    "fpr_dt_cv, tpr_dt_cv, thresholds_dt_cv = roc_curve(y_test, y_pred_proba_dt_cv[:,1])"
   ]
  },
  {
   "cell_type": "code",
   "execution_count": 25,
   "id": "edc8fc73-7b89-4fa0-8c37-83876adcaa9f",
   "metadata": {
    "tags": []
   },
   "outputs": [
    {
     "data": {
      "image/png": "[encoded data removed]",
      "text/plain": [
       "<Figure size 640x480 with 1 Axes>"
      ]
     },
     "metadata": {},
     "output_type": "display_data"
    }
   ],
   "source": [
    "import matplotlib.pyplot as plt\n",
    "\n",
    "plt.plot(fpr_dt, tpr_dt, label='ROC Curve for DT_default {:.3f}'.format(roc_index_dt), color='red', lw=0.5)\n",
    "plt.plot(fpr_dt_cv, tpr_dt_cv, label='ROC Curve for DT_optimal {:.3f}'.format(roc_index_dt_cv), color='blue', lw=0.5)\n",
    "\n",
    "# plt.plot(fpr[2], tpr[2], color='darkorange',\n",
    "#          lw=lw, label='ROC curve (area = %0.2f)' % roc_auc[2])\n",
    "plt.plot([0, 1], [0, 1], color='navy', lw=0.5, linestyle='--')\n",
    "plt.xlim([0.0, 1.0])\n",
    "plt.ylim([0.0, 1.0])\n",
    "plt.xlabel('False Positive Rate')\n",
    "plt.ylabel('True Positive Rate')\n",
    "plt.title('Receiver operating characteristic example')\n",
    "plt.legend(loc=\"lower right\")\n",
    "plt.show()"
   ]
  },
  {
   "cell_type": "code",
   "execution_count": 26,
   "id": "6a199430-fb31-4909-acae-92e1a66a9527",
   "metadata": {
    "tags": []
   },
   "outputs": [],
   "source": [
    "import pickle\n",
    "dt_best = cv_1\n",
    "with open('Assign2_DT.pickle', 'wb') as f:\n",
    "    pickle.dump([dt_best,roc_index_dt_cv, fpr_dt_cv, tpr_dt_cv], f)"
   ]
  },
  {
   "cell_type": "code",
   "execution_count": 14,
   "id": "fd8ffa21-4b26-4b05-9b7b-2bdd36a9492b",
   "metadata": {
    "tags": []
   },
   "outputs": [
    {
     "name": "stdout",
     "output_type": "stream",
     "text": [
      "Total number of models:  120\n"
     ]
    },
    {
     "data": {
      "image/png": "[encoded data removed]",
      "text/plain": [
       "<Figure size 640x480 with 1 Axes>"
      ]
     },
     "metadata": {},
     "output_type": "display_data"
    }
   ],
   "source": [
    "import matplotlib.pyplot as plt\n",
    "\n",
    "train_result = result_set['split0_train_score']\n",
    "test_result = result_set['split0_test_score']\n",
    "print(\"Total number of models: \", len(test_result))\n",
    "# plot max depth hyperparameter values vs training and test accuracy score\n",
    "plt.plot(range(0, len(train_result)), train_result, 'b', range(0,len(test_result)), test_result, 'r')\n",
    "plt.xlabel('Combination of hyperparameters\\nBlue = training acc. Red = test acc.')\n",
    "plt.ylabel('score')\n",
    "plt.show()"
   ]
  },
  {
   "cell_type": "code",
   "execution_count": null,
   "id": "bb846bb7-09fe-43e3-be2f-eadab11cc523",
   "metadata": {},
   "outputs": [],
   "source": []
  }
 ],
 "metadata": {
  "kernelspec": {
   "display_name": "Python 3 (ipykernel)",
   "language": "python",
   "name": "python3"
  },
  "language_info": {
   "codemirror_mode": {
    "name": "ipython",
    "version": 3
   },
   "file_extension": ".py",
   "mimetype": "text/x-python",
   "name": "python",
   "nbconvert_exporter": "python",
   "pygments_lexer": "ipython3",
   "version": "3.11.5"
  }
 },
 "nbformat": 4,
 "nbformat_minor": 5
}
