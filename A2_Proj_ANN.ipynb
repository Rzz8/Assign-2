{
 "cells": [
  {
   "cell_type": "code",
   "execution_count": 1,
   "id": "2555915b-2d61-4cca-9b66-4e4b64023130",
   "metadata": {
    "tags": []
   },
   "outputs": [
    {
     "name": "stdout",
     "output_type": "stream",
     "text": [
      "<class 'pandas.core.frame.DataFrame'>\n",
      "RangeIndex: 142219 entries, 0 to 142218\n",
      "Data columns (total 23 columns):\n",
      " #   Column         Non-Null Count   Dtype  \n",
      "---  ------         --------------   -----  \n",
      " 0   Year           142219 non-null  int64  \n",
      " 1   Month          142219 non-null  int64  \n",
      " 2   Location       142219 non-null  object \n",
      " 3   MinTemp        142219 non-null  float64\n",
      " 4   MaxTemp        142219 non-null  float64\n",
      " 5   Rainfall       142219 non-null  float64\n",
      " 6   Evaporation    142219 non-null  float64\n",
      " 7   Sunshine       142219 non-null  float64\n",
      " 8   WindGustDir    142219 non-null  object \n",
      " 9   WindGustSpeed  142219 non-null  int64  \n",
      " 10  WindDir9am     142219 non-null  object \n",
      " 11  WindDir3pm     142219 non-null  object \n",
      " 12  WindSpeed9am   142219 non-null  int64  \n",
      " 13  WindSpeed3pm   142219 non-null  int64  \n",
      " 14  Humidity9am    142219 non-null  float64\n",
      " 15  Humidity3pm    142219 non-null  float64\n",
      " 16  Pressure9am    142219 non-null  float64\n",
      " 17  Pressure3pm    142219 non-null  float64\n",
      " 18  Cloud9am       142219 non-null  int64  \n",
      " 19  Cloud3pm       142219 non-null  int64  \n",
      " 20  Temp9am        142219 non-null  float64\n",
      " 21  Temp3pm        142219 non-null  float64\n",
      " 22  RainTomorrow   142219 non-null  int64  \n",
      "dtypes: float64(11), int64(8), object(4)\n",
      "memory usage: 25.0+ MB\n",
      "None\n"
     ]
    }
   ],
   "source": [
    "import pandas as pd\n",
    "import numpy as np\n",
    "\n",
    "df = pd.read_csv('D3.csv')\n",
    "print(df.info())"
   ]
  },
  {
   "cell_type": "code",
   "execution_count": 2,
   "id": "a73e216e-3eea-4b68-94f9-075c4fbd9be3",
   "metadata": {
    "tags": []
   },
   "outputs": [
    {
     "name": "stdout",
     "output_type": "stream",
     "text": [
      "<class 'pandas.core.frame.DataFrame'>\n",
      "RangeIndex: 142219 entries, 0 to 142218\n",
      "Columns: 109 entries, Month to WindDir3pm_WSW\n",
      "dtypes: bool(97), float64(7), int64(5)\n",
      "memory usage: 26.2 MB\n",
      "None\n"
     ]
    }
   ],
   "source": [
    "# This block of code will do the processing as mentioned above. The processed data may need further processing for LR and NN. \n",
    "\n",
    "# Drop columns that should be removed due to high correlation with other variables\n",
    "columns_to_drop = ['Year', 'Cloud9am', 'Cloud3pm', 'Temp9am', 'Temp3pm']\n",
    "df2 = df.drop(columns=columns_to_drop)\n",
    "\n",
    "# Create new averaged variables \"Temp\" and \"Pressure\" and then drop 4 columns used for creating these variables\n",
    "df2['Pressure'] = (df2['Pressure9am'] + df2['Pressure3pm'])/2\n",
    "df2['Temp'] = (df2['MinTemp'] + df2['MaxTemp'])/2\n",
    "columns_to_drop2 = ['Pressure9am', 'Pressure3pm', 'MinTemp', 'MaxTemp']\n",
    "df2 = df2.drop(columns=columns_to_drop2)\n",
    "\n",
    "# Use one-hot encoding for categorical variables\n",
    "df2 = pd.get_dummies(df2)\n",
    "print(df2.info())\n",
    "\n",
    "# Target/input split\n",
    "y = df2['RainTomorrow']\n",
    "X = df2.drop(['RainTomorrow'], axis=1)\n",
    "\n",
    "# Split the data into training and testing data\n",
    "from sklearn.model_selection import train_test_split\n",
    "\n",
    "rs = 10\n",
    "X_mat = X.to_numpy()\n",
    "X_train, X_test, y_train, y_test = train_test_split(X_mat, y, test_size=0.3, stratify=y, random_state=rs)"
   ]
  },
  {
   "cell_type": "code",
   "execution_count": 3,
   "id": "90ee5448-0da7-4060-8b3a-e9571fb7a43f",
   "metadata": {
    "tags": []
   },
   "outputs": [
    {
     "name": "stdout",
     "output_type": "stream",
     "text": [
      "Before scaling\n",
      "-------------\n",
      "Variable #4: min 7, max 135, mean 40.02 and std dev 13.15\n",
      "After scaling\n",
      "-------------\n",
      "Variable #4: min -2.51164382853385, max 7.223836994226553, mean 0.00 and std dev 1.00\n"
     ]
    }
   ],
   "source": [
    "# Normalization is need for ANN\n",
    "\n",
    "from sklearn.preprocessing import StandardScaler\n",
    "# initialise a standard scaler object\n",
    "scaler = StandardScaler()\n",
    "# visualise min, max, mean and standard dev of data before scaling\n",
    "print(\"Before scaling\\n-------------\")\n",
    "for i in range(5):\n",
    "    col = X_train[:,i]\n",
    "print(\"Variable #{}: min {}, max {}, mean {:.2f} and std dev {:.2f}\".\n",
    "format(i, min(col), max(col), np.mean(col), np.std(col)))\n",
    "# learn the mean and std.dev of variables from training data\n",
    "# then use the learned values to transform training data\n",
    "X_train = scaler.fit_transform(X_train, y_train)\n",
    "print(\"After scaling\\n-------------\")\n",
    "for i in range(5):\n",
    "    col = X_train[:,i]\n",
    "print(\"Variable #{}: min {}, max {}, mean {:.2f} and std dev {:.2f}\".\n",
    "format(i, min(col), max(col), np.mean(col), np.std(col)))\n",
    "# use the statistic that you learned from training to transform test data\n",
    "# NEVER learn from test data, this is supposed to be a set of dataset\n",
    "# that the model has never seen before\n",
    "X_test = scaler.transform(X_test)"
   ]
  },
  {
   "cell_type": "code",
   "execution_count": 4,
   "id": "312605fb-11a2-4ac2-8400-5b8b1504d310",
   "metadata": {
    "tags": []
   },
   "outputs": [
    {
     "name": "stderr",
     "output_type": "stream",
     "text": [
      "C:\\Users\\zhong\\anaconda3\\Lib\\site-packages\\sklearn\\neural_network\\_multilayer_perceptron.py:691: ConvergenceWarning: Stochastic Optimizer: Maximum iterations (200) reached and the optimization hasn't converged yet.\n",
      "  warnings.warn(\n"
     ]
    },
    {
     "name": "stdout",
     "output_type": "stream",
     "text": [
      "Train accuracy: 0.9023434753347463\n",
      "Test accuracy: 0.8394506164158815\n",
      "              precision    recall  f1-score   support\n",
      "\n",
      "           0       0.88      0.92      0.90     33101\n",
      "           1       0.66      0.58      0.62      9565\n",
      "\n",
      "    accuracy                           0.84     42666\n",
      "   macro avg       0.77      0.75      0.76     42666\n",
      "weighted avg       0.83      0.84      0.84     42666\n",
      "\n",
      "MLPClassifier(random_state=10)\n"
     ]
    }
   ],
   "source": [
    "from sklearn.neural_network import MLPClassifier\n",
    "from sklearn.metrics import classification_report, accuracy_score\n",
    "\n",
    "model_1 = MLPClassifier(random_state=rs)\n",
    "model_1.fit(X_train, y_train)\n",
    "\n",
    "print(\"Train accuracy:\", model_1.score(X_train, y_train))\n",
    "print(\"Test accuracy:\", model_1.score(X_test, y_test))\n",
    "\n",
    "y_pred = model_1.predict(X_test)\n",
    "print(classification_report(y_test, y_pred))\n",
    "\n",
    "print(model_1)"
   ]
  },
  {
   "cell_type": "code",
   "execution_count": 10,
   "id": "1fddff57-8799-447a-a81c-cbbd15d2d660",
   "metadata": {
    "tags": []
   },
   "outputs": [
    {
     "name": "stdout",
     "output_type": "stream",
     "text": [
      "(142219, 109)\n"
     ]
    }
   ],
   "source": [
    "print(df2.shape)"
   ]
  },
  {
   "cell_type": "code",
   "execution_count": null,
   "id": "f9dbccb7-6a5f-4350-9428-851a0a16f81c",
   "metadata": {},
   "outputs": [],
   "source": [
    "# Reference: https://scikit-learn.org/stable/modules/generated/sklearn.neural_network.MLPClassifier.html\n",
    "# According to the above reference, network architecture has 108 neurons in the input layer, and 100 neurons in the hidden layer\n",
    "# 200 iterations, and the activation function is relu. Other default parameters are listed in the ref. \n",
    "\n",
    "# Q: What is the classification accuracy on training and test datasets?\n",
    "# A: Training accuray is 0.9023 and testing acuuracy is 0.8395. Clearly overfitting\n",
    "\n",
    "# Q : Did the training process converge and result in the best model?\n",
    "# A: No, the covergence does not reach so a better model is needed. "
   ]
  },
  {
   "cell_type": "code",
   "execution_count": 12,
   "id": "d3777b66-0f70-4a33-8112-208434d9ab07",
   "metadata": {},
   "outputs": [
    {
     "name": "stdout",
     "output_type": "stream",
     "text": [
      "{'mean_fit_time': array([ 60.6755306 , 147.57565768, 176.66081545,  77.2388556 ,\n",
      "       129.31005886, 174.76769421,  89.20762243, 135.62039633,\n",
      "       142.86365643, 102.31134944, 153.58999109, 184.87137692,\n",
      "       101.38149264, 140.79991834, 170.35500779, 105.9459919 ,\n",
      "       146.45986218, 129.63852873]), 'std_fit_time': array([13.82343333, 31.07740652, 27.86327362, 17.05277287, 19.88105242,\n",
      "       25.51248454, 15.26257181, 18.61452822, 23.35298348, 13.99678521,\n",
      "       25.46197619, 24.27432266, 17.56569081, 31.1736494 , 16.14499578,\n",
      "       28.05217951, 29.60379067, 22.7999815 ]), 'mean_score_time': array([0.01906281, 0.02597799, 0.02293022, 0.02227468, 0.03389192,\n",
      "       0.03788629, 0.02104986, 0.02737467, 0.03292575, 0.02284272,\n",
      "       0.02886419, 0.02491679, 0.02578139, 0.02161052, 0.0369597 ,\n",
      "       0.0189635 , 0.03480372, 0.02257109]), 'std_score_time': array([0.00259808, 0.00338896, 0.00154808, 0.01061439, 0.01613317,\n",
      "       0.01441669, 0.00457446, 0.00528132, 0.00800946, 0.01046507,\n",
      "       0.01314673, 0.00761081, 0.01187508, 0.00496804, 0.02683692,\n",
      "       0.00558716, 0.01987666, 0.01096689]), 'param_activation': masked_array(data=['tanh', 'tanh', 'tanh', 'tanh', 'tanh', 'tanh', 'tanh',\n",
      "                   'tanh', 'tanh', 'relu', 'relu', 'relu', 'relu', 'relu',\n",
      "                   'relu', 'relu', 'relu', 'relu'],\n",
      "             mask=[False, False, False, False, False, False, False, False,\n",
      "                   False, False, False, False, False, False, False, False,\n",
      "                   False, False],\n",
      "       fill_value='?',\n",
      "            dtype=object), 'param_alpha': masked_array(data=[0.0001, 0.0001, 0.0001, 0.001, 0.001, 0.001, 0.01,\n",
      "                   0.01, 0.01, 0.0001, 0.0001, 0.0001, 0.001, 0.001,\n",
      "                   0.001, 0.01, 0.01, 0.01],\n",
      "             mask=[False, False, False, False, False, False, False, False,\n",
      "                   False, False, False, False, False, False, False, False,\n",
      "                   False, False],\n",
      "       fill_value='?',\n",
      "            dtype=object), 'param_hidden_layer_sizes': masked_array(data=[(10,), (15,), (20,), (10,), (15,), (20,), (10,), (15,),\n",
      "                   (20,), (10,), (15,), (20,), (10,), (15,), (20,), (10,),\n",
      "                   (15,), (20,)],\n",
      "             mask=[False, False, False, False, False, False, False, False,\n",
      "                   False, False, False, False, False, False, False, False,\n",
      "                   False, False],\n",
      "       fill_value='?',\n",
      "            dtype=object), 'params': [{'activation': 'tanh', 'alpha': 0.0001, 'hidden_layer_sizes': (10,)}, {'activation': 'tanh', 'alpha': 0.0001, 'hidden_layer_sizes': (15,)}, {'activation': 'tanh', 'alpha': 0.0001, 'hidden_layer_sizes': (20,)}, {'activation': 'tanh', 'alpha': 0.001, 'hidden_layer_sizes': (10,)}, {'activation': 'tanh', 'alpha': 0.001, 'hidden_layer_sizes': (15,)}, {'activation': 'tanh', 'alpha': 0.001, 'hidden_layer_sizes': (20,)}, {'activation': 'tanh', 'alpha': 0.01, 'hidden_layer_sizes': (10,)}, {'activation': 'tanh', 'alpha': 0.01, 'hidden_layer_sizes': (15,)}, {'activation': 'tanh', 'alpha': 0.01, 'hidden_layer_sizes': (20,)}, {'activation': 'relu', 'alpha': 0.0001, 'hidden_layer_sizes': (10,)}, {'activation': 'relu', 'alpha': 0.0001, 'hidden_layer_sizes': (15,)}, {'activation': 'relu', 'alpha': 0.0001, 'hidden_layer_sizes': (20,)}, {'activation': 'relu', 'alpha': 0.001, 'hidden_layer_sizes': (10,)}, {'activation': 'relu', 'alpha': 0.001, 'hidden_layer_sizes': (15,)}, {'activation': 'relu', 'alpha': 0.001, 'hidden_layer_sizes': (20,)}, {'activation': 'relu', 'alpha': 0.01, 'hidden_layer_sizes': (10,)}, {'activation': 'relu', 'alpha': 0.01, 'hidden_layer_sizes': (15,)}, {'activation': 'relu', 'alpha': 0.01, 'hidden_layer_sizes': (20,)}], 'split0_test_score': array([0.85255123, 0.85074327, 0.84521896, 0.85355564, 0.84933708,\n",
      "       0.84552029, 0.85456006, 0.85114504, 0.84943753, 0.85777421,\n",
      "       0.85787465, 0.85214946, 0.85576537, 0.85717155, 0.85245078,\n",
      "       0.85757332, 0.85877863, 0.85516272]), 'split1_test_score': array([0.85486139, 0.8510446 , 0.84853355, 0.85496183, 0.85265167,\n",
      "       0.85024106, 0.8541583 , 0.85355564, 0.84943753, 0.8565689 ,\n",
      "       0.85636802, 0.85857774, 0.85827642, 0.85697067, 0.85867818,\n",
      "       0.85787465, 0.85787465, 0.86058658]), 'split2_test_score': array([0.85184813, 0.84783045, 0.84652471, 0.85375653, 0.84732824,\n",
      "       0.84672559, 0.85214946, 0.84923664, 0.84953797, 0.85265167,\n",
      "       0.85365609, 0.85084371, 0.85305344, 0.85235034, 0.85164725,\n",
      "       0.85174769, 0.85275211, 0.85094415]), 'split3_test_score': array([0.85464591, 0.84982421, 0.84751381, 0.85474636, 0.8496233 ,\n",
      "       0.84992466, 0.85354093, 0.85283777, 0.85404319, 0.85896534,\n",
      "       0.85886489, 0.85575088, 0.85816173, 0.8590658 , 0.854445  ,\n",
      "       0.85775992, 0.85665495, 0.8565545 ]), 'split4_test_score': array([0.85293822, 0.85394274, 0.84339528, 0.85374184, 0.85605224,\n",
      "       0.84480161, 0.85404319, 0.8519337 , 0.84781517, 0.85615269,\n",
      "       0.85765947, 0.85936715, 0.85645404, 0.85866399, 0.86037167,\n",
      "       0.85645404, 0.85836263, 0.85876444]), 'split5_test_score': array([0.85022602, 0.8467102 , 0.84289302, 0.84982421, 0.84570568,\n",
      "       0.84470116, 0.8496233 , 0.84650929, 0.84450025, 0.85243596,\n",
      "       0.85273732, 0.85394274, 0.85243596, 0.8567554 , 0.85585133,\n",
      "       0.85273732, 0.85665495, 0.8542441 ]), 'split6_test_score': array([0.85816173, 0.85344048, 0.854445  , 0.85856354, 0.85454545,\n",
      "       0.85554997, 0.85896534, 0.85816173, 0.8567554 , 0.85715721,\n",
      "       0.8615771 , 0.85846308, 0.85936715, 0.86167755, 0.85595178,\n",
      "       0.85816173, 0.861778  , 0.85876444]), 'split7_test_score': array([0.8519337 , 0.84972376, 0.84500251, 0.85163235, 0.85062783,\n",
      "       0.84801607, 0.85534907, 0.85062783, 0.85374184, 0.85464591,\n",
      "       0.85554997, 0.85454545, 0.85585133, 0.85404319, 0.85544952,\n",
      "       0.85735811, 0.85414365, 0.85374184]), 'split8_test_score': array([0.85544952, 0.85163235, 0.85042692, 0.85595178, 0.85223506,\n",
      "       0.85123054, 0.85725766, 0.8542441 , 0.85384229, 0.86027122,\n",
      "       0.85986941, 0.85544952, 0.86037167, 0.85836263, 0.85735811,\n",
      "       0.85956806, 0.85966851, 0.85494726]), 'split9_test_score': array([0.85213461, 0.85052737, 0.84590658, 0.85203415, 0.84992466,\n",
      "       0.8467102 , 0.85344048, 0.85092918, 0.85082873, 0.85806128,\n",
      "       0.85816173, 0.85494726, 0.85524862, 0.85645404, 0.85615269,\n",
      "       0.85765947, 0.85554997, 0.85705676]), 'mean_test_score': array([0.85347505, 0.85054194, 0.84698603, 0.85387682, 0.85080312,\n",
      "       0.84834211, 0.85430878, 0.85191809, 0.85099399, 0.85646844,\n",
      "       0.85723186, 0.8554037 , 0.85649857, 0.85715152, 0.85583563,\n",
      "       0.85668943, 0.8572218 , 0.85607668]), 'std_test_score': array([0.00218343, 0.00211349, 0.00328984, 0.00230644, 0.00299045,\n",
      "       0.00324875, 0.00244086, 0.00295984, 0.00342667, 0.00244279,\n",
      "       0.00257929, 0.00264062, 0.00245053, 0.00247575, 0.0024934 ,\n",
      "       0.00235095, 0.00252562, 0.00270628]), 'rank_test_score': array([12, 16, 18, 11, 15, 17, 10, 13, 14,  6,  1,  9,  5,  3,  8,  4,  2,\n",
      "        7]), 'split0_train_score': array([0.86405795, 0.86932598, 0.8738239 , 0.86399098, 0.86880141,\n",
      "       0.87353371, 0.86390169, 0.86912508, 0.87165865, 0.86448207,\n",
      "       0.86843309, 0.8706988 , 0.86393518, 0.868288  , 0.87106711,\n",
      "       0.86474994, 0.86913624, 0.87027467]), 'split1_train_score': array([0.86374544, 0.86879025, 0.87333281, 0.86371195, 0.868288  ,\n",
      "       0.8731654 , 0.86392402, 0.86819871, 0.87139078, 0.86374544,\n",
      "       0.86851122, 0.87028584, 0.86356686, 0.86916973, 0.87124569,\n",
      "       0.86345525, 0.86802013, 0.87078808]), 'split2_train_score': array([0.8644151 , 0.86873444, 0.87383506, 0.86438162, 0.86890186,\n",
      "       0.87416989, 0.86411375, 0.86791968, 0.87088853, 0.86444859,\n",
      "       0.86837729, 0.87096666, 0.86447091, 0.86784156, 0.87118988,\n",
      "       0.86431465, 0.86812058, 0.87146891]), 'split3_train_score': array([0.86441662, 0.86802161, 0.87430523, 0.86443894, 0.86763097,\n",
      "       0.87432755, 0.86477377, 0.86703944, 0.87112436, 0.86501931,\n",
      "       0.86831179, 0.87027612, 0.86349026, 0.86861314, 0.87126945,\n",
      "       0.86388089, 0.86948369, 0.86997478]), 'split4_train_score': array([0.8641934 , 0.86818902, 0.87450613, 0.86366883, 0.86780955,\n",
      "       0.87361325, 0.86383625, 0.86880288, 0.87086765, 0.86359071,\n",
      "       0.86824483, 0.87158195, 0.86457287, 0.8686243 , 0.87084533,\n",
      "       0.86402598, 0.86798812, 0.86955066]), 'split5_train_score': array([0.86422688, 0.86942789, 0.87404853, 0.86431617, 0.86984084,\n",
      "       0.8737137 , 0.86407063, 0.8682225 , 0.87153731, 0.86459519,\n",
      "       0.86861314, 0.87141454, 0.86417108, 0.86826715, 0.87101275,\n",
      "       0.86455055, 0.8677091 , 0.87018683]), 'split6_train_score': array([0.86350142, 0.86759749, 0.87241903, 0.86350142, 0.86766446,\n",
      "       0.87330074, 0.86349026, 0.86785419, 0.87179401, 0.86303266,\n",
      "       0.86795464, 0.87022032, 0.86346793, 0.86795464, 0.87048818,\n",
      "       0.86361303, 0.86788768, 0.86962879]), 'split7_train_score': array([0.86409295, 0.86949485, 0.87369138, 0.86398134, 0.86894797,\n",
      "       0.87219581, 0.86326704, 0.86831179, 0.87202839, 0.86539878,\n",
      "       0.86846805, 0.87073372, 0.86506395, 0.8679658 , 0.8713699 ,\n",
      "       0.8654211 , 0.8683676 , 0.870198  ]), 'split8_train_score': array([0.86313311, 0.86932744, 0.87235206, 0.86283176, 0.86945021,\n",
      "       0.87276502, 0.86324472, 0.86821134, 0.87207304, 0.86337865,\n",
      "       0.86791   , 0.87009755, 0.86395902, 0.86835644, 0.87061095,\n",
      "       0.863334  , 0.86774258, 0.87052166]), 'split9_train_score': array([0.8634791 , 0.8679658 , 0.87365789, 0.86337865, 0.86812206,\n",
      "       0.87316681, 0.86370231, 0.86831179, 0.87181634, 0.86471796,\n",
      "       0.86955066, 0.87143686, 0.86415991, 0.86911538, 0.87070024,\n",
      "       0.86433849, 0.86833411, 0.87115784]), 'mean_train_score': array([0.8639262 , 0.86868748, 0.8735972 , 0.86382017, 0.86854573,\n",
      "       0.87339519, 0.86383244, 0.86819974, 0.87151791, 0.86424093,\n",
      "       0.86843747, 0.87077124, 0.8640858 , 0.86841961, 0.87097995,\n",
      "       0.86416839, 0.86827899, 0.87037502]), 'std_train_score': array([0.00041575, 0.00066564, 0.00068264, 0.00048035, 0.00072462,\n",
      "       0.00059893, 0.00042829, 0.0005282 , 0.00041764, 0.00072613,\n",
      "       0.00042946, 0.00052888, 0.00048986, 0.00043897, 0.00028872,\n",
      "       0.00060992, 0.00056031, 0.00058949])}\n"
     ]
    }
   ],
   "source": [
    "from sklearn.neural_network import MLPClassifier\n",
    "from sklearn.metrics import classification_report, accuracy_score\n",
    "from sklearn.model_selection import GridSearchCV\n",
    "\n",
    "params = {'hidden_layer_sizes': [(10,), (15,), (20,)], 'activation': ['tanh', 'relu'], 'alpha': [0.0001, 0.001, 0.01]}\n",
    "\n",
    "cv_1 = GridSearchCV(param_grid=params, estimator=MLPClassifier(random_state=rs),return_train_score=True, cv=10, n_jobs=-1)\n",
    "cv_1.fit(X_train, y_train)\n",
    "result_set = cv_1.cv_results_\n",
    "print(result_set)"
   ]
  },
  {
   "cell_type": "code",
   "execution_count": 15,
   "id": "4b4e62ce-98ff-4603-913a-07687db1098f",
   "metadata": {
    "tags": []
   },
   "outputs": [
    {
     "name": "stdout",
     "output_type": "stream",
     "text": [
      "{'activation': 'relu', 'alpha': 0.0001, 'hidden_layer_sizes': (15,)}\n"
     ]
    }
   ],
   "source": [
    "print(cv_1.best_params_)"
   ]
  },
  {
   "cell_type": "code",
   "execution_count": 16,
   "id": "077a4851-6c19-4e00-9183-a4dbf2706acb",
   "metadata": {
    "tags": []
   },
   "outputs": [
    {
     "name": "stdout",
     "output_type": "stream",
     "text": [
      "Train accuracy: 0.8675178045865016\n",
      "Test accuracy: 0.8577555899310927\n"
     ]
    }
   ],
   "source": [
    "print(\"Train accuracy:\", cv_1.score(X_train, y_train))\n",
    "print(\"Test accuracy:\", cv_1.score(X_test, y_test))"
   ]
  },
  {
   "cell_type": "code",
   "execution_count": null,
   "id": "e3d7644e-ab96-4a95-b49e-93a2b3b67605",
   "metadata": {},
   "outputs": [],
   "source": [
    "cv_1.best_estimator.fit()"
   ]
  },
  {
   "cell_type": "code",
   "execution_count": null,
   "id": "80c13555-05fa-4c7a-bf7b-bc54fe5838e5",
   "metadata": {},
   "outputs": [],
   "source": []
  },
  {
   "cell_type": "code",
   "execution_count": 5,
   "id": "b518c127-1034-4e5e-a0cf-e9d9ee2470df",
   "metadata": {},
   "outputs": [
    {
     "name": "stdout",
     "output_type": "stream",
     "text": [
      "{'criterion': 'gini', 'max_depth': 8, 'min_samples_leaf': 5}\n"
     ]
    }
   ],
   "source": [
    "# Perform dimension reduction using decision tree\n",
    "\n",
    "import pickle\n",
    "with open('Assign2_DT.pickle', 'rb') as f:\n",
    "    dt_best,roc_index_dt_cv, fpr_dt_cv, tpr_dt_cv = pickle.load(f)\n",
    "\n",
    "print(dt_best.best_params_)"
   ]
  },
  {
   "cell_type": "code",
   "execution_count": 6,
   "id": "942e9871-2fd1-4c8e-b5b1-821617db38ac",
   "metadata": {
    "tags": []
   },
   "outputs": [
    {
     "name": "stdout",
     "output_type": "stream",
     "text": [
      "Humidity3pm : 0.6210886371783307\n",
      "Rainfall : 0.1013670287873209\n",
      "WindGustSpeed : 0.07786988178691295\n",
      "Pressure : 0.06931905985641469\n",
      "Sunshine : 0.06489778479388851\n",
      "Temp : 0.017297934703712024\n",
      "Humidity9am : 0.010426928406427534\n",
      "WindSpeed3pm : 0.005571413233730641\n",
      "Location_MountGinini : 0.0036902773321136743\n",
      "WindSpeed9am : 0.002731845904030169\n",
      "Evaporation : 0.0024920007843218643\n",
      "WindDir3pm_NNW : 0.002172839329360932\n",
      "Location_Albany : 0.002149410626922742\n",
      "Location_Wollongong : 0.0020068298629072273\n",
      "WindDir3pm_N : 0.0016369502393569556\n",
      "WindGustDir_NE : 0.0015878863415322696\n",
      "Location_Brisbane : 0.0015085686366425846\n",
      "WindDir9am_NNE : 0.001215868033739137\n",
      "Location_NorahHead : 0.0011290139783953137\n",
      "Location_Dartmoor : 0.0010830494231520303\n"
     ]
    }
   ],
   "source": [
    "# inside `dm_tools.py' together with data_prep()\n",
    "import numpy as np\n",
    "\n",
    "def analyse_feature_importance(dm_model, feature_names, n_to_display=20):\n",
    "    # grab feature importances from the model\n",
    "    importances = dm_model.feature_importances_\n",
    "    \n",
    "    # sort them out in descending order\n",
    "    indices = np.argsort(importances)\n",
    "    indices = np.flip(indices, axis=0)\n",
    "\n",
    "    # limit to 20 features, you can leave this out to print out everything\n",
    "    indices = indices[:n_to_display]\n",
    "\n",
    "    for i in indices:\n",
    "        print(feature_names[i], ':', importances[i])\n",
    "\n",
    "analyse_feature_importance(dt_best.best_estimator_, X.columns)"
   ]
  },
  {
   "cell_type": "code",
   "execution_count": 7,
   "id": "389af7bc-fbab-4b27-8003-1b1b44bfef4d",
   "metadata": {},
   "outputs": [
    {
     "name": "stdout",
     "output_type": "stream",
     "text": [
      "(99553, 7)\n"
     ]
    }
   ],
   "source": [
    "from sklearn.feature_selection import SelectFromModel\n",
    "\n",
    "selectmodel = SelectFromModel(dt_best.best_estimator_, prefit=True)\n",
    "X_train_sel_model = selectmodel.transform(X_train)\n",
    "X_test_sel_model = selectmodel.transform(X_test)\n",
    "\n",
    "print(X_train_sel_model.shape)"
   ]
  },
  {
   "cell_type": "code",
   "execution_count": 9,
   "id": "bf6ddabd-ed3d-4a43-9100-3eac7e8a64ca",
   "metadata": {},
   "outputs": [
    {
     "name": "stdout",
     "output_type": "stream",
     "text": [
      "Train accuracy: 0.8458911333661466\n",
      "Test accuracy: 0.8471616744011625\n",
      "              precision    recall  f1-score   support\n",
      "\n",
      "           0       0.87      0.95      0.91     33101\n",
      "           1       0.74      0.49      0.59      9565\n",
      "\n",
      "    accuracy                           0.85     42666\n",
      "   macro avg       0.80      0.72      0.75     42666\n",
      "weighted avg       0.84      0.85      0.83     42666\n",
      "\n",
      "{'alpha': 0.0001, 'hidden_layer_sizes': (20,)}\n"
     ]
    }
   ],
   "source": [
    "from sklearn.model_selection import GridSearchCV\n",
    "\n",
    "params = {'hidden_layer_sizes': [(10,), (15,), (20,)], 'alpha': [0.001, 0.0001]}\n",
    "\n",
    "cv_sel_model = GridSearchCV(param_grid=params, estimator=MLPClassifier(random_state=rs), cv=10, n_jobs=-1)\n",
    "cv_sel_model.fit(X_train_sel_model, y_train)\n",
    "\n",
    "print(\"Train accuracy:\", cv_sel_model.score(X_train_sel_model, y_train))\n",
    "print(\"Test accuracy:\", cv_sel_model.score(X_test_sel_model, y_test))\n",
    "\n",
    "y_pred = cv_sel_model.predict(X_test_sel_model)\n",
    "print(classification_report(y_test, y_pred))\n",
    "\n",
    "print(cv_sel_model.best_params_)"
   ]
  },
  {
   "cell_type": "code",
   "execution_count": 10,
   "id": "91dac703-84c1-4752-9fe8-2f317fc02e2d",
   "metadata": {},
   "outputs": [
    {
     "data": {
      "text/html": [
       "<style>#sk-container-id-1 {color: black;}#sk-container-id-1 pre{padding: 0;}#sk-container-id-1 div.sk-toggleable {background-color: white;}#sk-container-id-1 label.sk-toggleable__label {cursor: pointer;display: block;width: 100%;margin-bottom: 0;padding: 0.3em;box-sizing: border-box;text-align: center;}#sk-container-id-1 label.sk-toggleable__label-arrow:before {content: \"▸\";float: left;margin-right: 0.25em;color: #696969;}#sk-container-id-1 label.sk-toggleable__label-arrow:hover:before {color: black;}#sk-container-id-1 div.sk-estimator:hover label.sk-toggleable__label-arrow:before {color: black;}#sk-container-id-1 div.sk-toggleable__content {max-height: 0;max-width: 0;overflow: hidden;text-align: left;background-color: #f0f8ff;}#sk-container-id-1 div.sk-toggleable__content pre {margin: 0.2em;color: black;border-radius: 0.25em;background-color: #f0f8ff;}#sk-container-id-1 input.sk-toggleable__control:checked~div.sk-toggleable__content {max-height: 200px;max-width: 100%;overflow: auto;}#sk-container-id-1 input.sk-toggleable__control:checked~label.sk-toggleable__label-arrow:before {content: \"▾\";}#sk-container-id-1 div.sk-estimator input.sk-toggleable__control:checked~label.sk-toggleable__label {background-color: #d4ebff;}#sk-container-id-1 div.sk-label input.sk-toggleable__control:checked~label.sk-toggleable__label {background-color: #d4ebff;}#sk-container-id-1 input.sk-hidden--visually {border: 0;clip: rect(1px 1px 1px 1px);clip: rect(1px, 1px, 1px, 1px);height: 1px;margin: -1px;overflow: hidden;padding: 0;position: absolute;width: 1px;}#sk-container-id-1 div.sk-estimator {font-family: monospace;background-color: #f0f8ff;border: 1px dotted black;border-radius: 0.25em;box-sizing: border-box;margin-bottom: 0.5em;}#sk-container-id-1 div.sk-estimator:hover {background-color: #d4ebff;}#sk-container-id-1 div.sk-parallel-item::after {content: \"\";width: 100%;border-bottom: 1px solid gray;flex-grow: 1;}#sk-container-id-1 div.sk-label:hover label.sk-toggleable__label {background-color: #d4ebff;}#sk-container-id-1 div.sk-serial::before {content: \"\";position: absolute;border-left: 1px solid gray;box-sizing: border-box;top: 0;bottom: 0;left: 50%;z-index: 0;}#sk-container-id-1 div.sk-serial {display: flex;flex-direction: column;align-items: center;background-color: white;padding-right: 0.2em;padding-left: 0.2em;position: relative;}#sk-container-id-1 div.sk-item {position: relative;z-index: 1;}#sk-container-id-1 div.sk-parallel {display: flex;align-items: stretch;justify-content: center;background-color: white;position: relative;}#sk-container-id-1 div.sk-item::before, #sk-container-id-1 div.sk-parallel-item::before {content: \"\";position: absolute;border-left: 1px solid gray;box-sizing: border-box;top: 0;bottom: 0;left: 50%;z-index: -1;}#sk-container-id-1 div.sk-parallel-item {display: flex;flex-direction: column;z-index: 1;position: relative;background-color: white;}#sk-container-id-1 div.sk-parallel-item:first-child::after {align-self: flex-end;width: 50%;}#sk-container-id-1 div.sk-parallel-item:last-child::after {align-self: flex-start;width: 50%;}#sk-container-id-1 div.sk-parallel-item:only-child::after {width: 0;}#sk-container-id-1 div.sk-dashed-wrapped {border: 1px dashed gray;margin: 0 0.4em 0.5em 0.4em;box-sizing: border-box;padding-bottom: 0.4em;background-color: white;}#sk-container-id-1 div.sk-label label {font-family: monospace;font-weight: bold;display: inline-block;line-height: 1.2em;}#sk-container-id-1 div.sk-label-container {text-align: center;}#sk-container-id-1 div.sk-container {/* jupyter's `normalize.less` sets `[hidden] { display: none; }` but bootstrap.min.css set `[hidden] { display: none !important; }` so we also need the `!important` here to be able to override the default hidden behavior on the sphinx rendered scikit-learn.org. See: https://github.com/scikit-learn/scikit-learn/issues/21755 */display: inline-block !important;position: relative;}#sk-container-id-1 div.sk-text-repr-fallback {display: none;}</style><div id=\"sk-container-id-1\" class=\"sk-top-container\"><div class=\"sk-text-repr-fallback\"><pre>MLPClassifier(hidden_layer_sizes=(20,), random_state=10)</pre><b>In a Jupyter environment, please rerun this cell to show the HTML representation or trust the notebook. <br />On GitHub, the HTML representation is unable to render, please try loading this page with nbviewer.org.</b></div><div class=\"sk-container\" hidden><div class=\"sk-item\"><div class=\"sk-estimator sk-toggleable\"><input class=\"sk-toggleable__control sk-hidden--visually\" id=\"sk-estimator-id-1\" type=\"checkbox\" checked><label for=\"sk-estimator-id-1\" class=\"sk-toggleable__label sk-toggleable__label-arrow\">MLPClassifier</label><div class=\"sk-toggleable__content\"><pre>MLPClassifier(hidden_layer_sizes=(20,), random_state=10)</pre></div></div></div></div></div>"
      ],
      "text/plain": [
       "MLPClassifier(hidden_layer_sizes=(20,), random_state=10)"
      ]
     },
     "execution_count": 10,
     "metadata": {},
     "output_type": "execute_result"
    }
   ],
   "source": [
    "cv_sel_model.best_estimator_.fit(X_train, y_train)"
   ]
  },
  {
   "cell_type": "code",
   "execution_count": 12,
   "id": "ef8eb8b0-1e70-4e3f-a41b-e5b5cd2f3d39",
   "metadata": {},
   "outputs": [
    {
     "name": "stdout",
     "output_type": "stream",
     "text": [
      "119\n"
     ]
    }
   ],
   "source": [
    "# Number of iterations needed to train this netwrok\n",
    "\n",
    "print(cv_sel_model.best_estimator_.n_iter_)"
   ]
  },
  {
   "cell_type": "code",
   "execution_count": null,
   "id": "af5b8b25-e508-436d-933c-e24bb548bdcd",
   "metadata": {},
   "outputs": [],
   "source": [
    "# No overfitting because training and testing accuray are almost the same. \n",
    "# The bset model is the second model that Used Grid search with cross validation"
   ]
  },
  {
   "cell_type": "code",
   "execution_count": null,
   "id": "a6efdbaf-61cb-4a05-ab9f-c00abf6b5273",
   "metadata": {},
   "outputs": [],
   "source": []
  },
  {
   "cell_type": "code",
   "execution_count": null,
   "id": "a4fcb6f7-6cda-4b1f-92d4-4aab35f39a49",
   "metadata": {},
   "outputs": [],
   "source": []
  },
  {
   "cell_type": "code",
   "execution_count": 6,
   "id": "1ca932a6-5197-4b85-975f-a74fc2d9e83d",
   "metadata": {
    "tags": []
   },
   "outputs": [
    {
     "name": "stdout",
     "output_type": "stream",
     "text": [
      "Train accuracy: 0.90437254527739\n",
      "Test accuracy: 0.8381615337739652\n",
      "              precision    recall  f1-score   support\n",
      "\n",
      "           0       0.88      0.91      0.90     33101\n",
      "           1       0.66      0.59      0.62      9565\n",
      "\n",
      "    accuracy                           0.84     42666\n",
      "   macro avg       0.77      0.75      0.76     42666\n",
      "weighted avg       0.83      0.84      0.83     42666\n",
      "\n",
      "MLPClassifier(max_iter=700, random_state=10)\n"
     ]
    }
   ],
   "source": [
    "model_2 = MLPClassifier(max_iter=700, random_state=rs)\n",
    "model_2.fit(X_train, y_train)\n",
    "\n",
    "print(\"Train accuracy:\", model_2.score(X_train, y_train))\n",
    "print(\"Test accuracy:\", model_2.score(X_test, y_test))\n",
    "\n",
    "y_pred = model_2.predict(X_test)\n",
    "print(classification_report(y_test, y_pred))\n",
    "\n",
    "print(model_2)"
   ]
  },
  {
   "cell_type": "code",
   "execution_count": 7,
   "id": "71f1e5d8-592c-4b02-be41-52a7497148fe",
   "metadata": {
    "tags": []
   },
   "outputs": [],
   "source": [
    "# Does not help with iterations of 700 for the testing accuracy, but it did converge"
   ]
  },
  {
   "cell_type": "code",
   "execution_count": 8,
   "id": "384155fd-89b1-4c34-9ae1-c5d9feaf379a",
   "metadata": {
    "tags": []
   },
   "outputs": [
    {
     "name": "stdout",
     "output_type": "stream",
     "text": [
      "(99553, 108)\n"
     ]
    }
   ],
   "source": [
    "print(X_train.shape)"
   ]
  },
  {
   "cell_type": "code",
   "execution_count": 10,
   "id": "1ef844de-0df5-47eb-8998-3dfbfe864f04",
   "metadata": {
    "tags": []
   },
   "outputs": [
    {
     "data": {
      "text/html": [
       "<style>#sk-container-id-1 {color: black;}#sk-container-id-1 pre{padding: 0;}#sk-container-id-1 div.sk-toggleable {background-color: white;}#sk-container-id-1 label.sk-toggleable__label {cursor: pointer;display: block;width: 100%;margin-bottom: 0;padding: 0.3em;box-sizing: border-box;text-align: center;}#sk-container-id-1 label.sk-toggleable__label-arrow:before {content: \"▸\";float: left;margin-right: 0.25em;color: #696969;}#sk-container-id-1 label.sk-toggleable__label-arrow:hover:before {color: black;}#sk-container-id-1 div.sk-estimator:hover label.sk-toggleable__label-arrow:before {color: black;}#sk-container-id-1 div.sk-toggleable__content {max-height: 0;max-width: 0;overflow: hidden;text-align: left;background-color: #f0f8ff;}#sk-container-id-1 div.sk-toggleable__content pre {margin: 0.2em;color: black;border-radius: 0.25em;background-color: #f0f8ff;}#sk-container-id-1 input.sk-toggleable__control:checked~div.sk-toggleable__content {max-height: 200px;max-width: 100%;overflow: auto;}#sk-container-id-1 input.sk-toggleable__control:checked~label.sk-toggleable__label-arrow:before {content: \"▾\";}#sk-container-id-1 div.sk-estimator input.sk-toggleable__control:checked~label.sk-toggleable__label {background-color: #d4ebff;}#sk-container-id-1 div.sk-label input.sk-toggleable__control:checked~label.sk-toggleable__label {background-color: #d4ebff;}#sk-container-id-1 input.sk-hidden--visually {border: 0;clip: rect(1px 1px 1px 1px);clip: rect(1px, 1px, 1px, 1px);height: 1px;margin: -1px;overflow: hidden;padding: 0;position: absolute;width: 1px;}#sk-container-id-1 div.sk-estimator {font-family: monospace;background-color: #f0f8ff;border: 1px dotted black;border-radius: 0.25em;box-sizing: border-box;margin-bottom: 0.5em;}#sk-container-id-1 div.sk-estimator:hover {background-color: #d4ebff;}#sk-container-id-1 div.sk-parallel-item::after {content: \"\";width: 100%;border-bottom: 1px solid gray;flex-grow: 1;}#sk-container-id-1 div.sk-label:hover label.sk-toggleable__label {background-color: #d4ebff;}#sk-container-id-1 div.sk-serial::before {content: \"\";position: absolute;border-left: 1px solid gray;box-sizing: border-box;top: 0;bottom: 0;left: 50%;z-index: 0;}#sk-container-id-1 div.sk-serial {display: flex;flex-direction: column;align-items: center;background-color: white;padding-right: 0.2em;padding-left: 0.2em;position: relative;}#sk-container-id-1 div.sk-item {position: relative;z-index: 1;}#sk-container-id-1 div.sk-parallel {display: flex;align-items: stretch;justify-content: center;background-color: white;position: relative;}#sk-container-id-1 div.sk-item::before, #sk-container-id-1 div.sk-parallel-item::before {content: \"\";position: absolute;border-left: 1px solid gray;box-sizing: border-box;top: 0;bottom: 0;left: 50%;z-index: -1;}#sk-container-id-1 div.sk-parallel-item {display: flex;flex-direction: column;z-index: 1;position: relative;background-color: white;}#sk-container-id-1 div.sk-parallel-item:first-child::after {align-self: flex-end;width: 50%;}#sk-container-id-1 div.sk-parallel-item:last-child::after {align-self: flex-start;width: 50%;}#sk-container-id-1 div.sk-parallel-item:only-child::after {width: 0;}#sk-container-id-1 div.sk-dashed-wrapped {border: 1px dashed gray;margin: 0 0.4em 0.5em 0.4em;box-sizing: border-box;padding-bottom: 0.4em;background-color: white;}#sk-container-id-1 div.sk-label label {font-family: monospace;font-weight: bold;display: inline-block;line-height: 1.2em;}#sk-container-id-1 div.sk-label-container {text-align: center;}#sk-container-id-1 div.sk-container {/* jupyter's `normalize.less` sets `[hidden] { display: none; }` but bootstrap.min.css set `[hidden] { display: none !important; }` so we also need the `!important` here to be able to override the default hidden behavior on the sphinx rendered scikit-learn.org. See: https://github.com/scikit-learn/scikit-learn/issues/21755 */display: inline-block !important;position: relative;}#sk-container-id-1 div.sk-text-repr-fallback {display: none;}</style><div id=\"sk-container-id-1\" class=\"sk-top-container\"><div class=\"sk-text-repr-fallback\"><pre>GridSearchCV(cv=10, estimator=MLPClassifier(random_state=10), n_jobs=-1,\n",
       "             param_grid={&#x27;hidden_layer_sizes&#x27;: [(5,), (25,), (45,), (65,),\n",
       "                                                (85,)]},\n",
       "             return_train_score=True)</pre><b>In a Jupyter environment, please rerun this cell to show the HTML representation or trust the notebook. <br />On GitHub, the HTML representation is unable to render, please try loading this page with nbviewer.org.</b></div><div class=\"sk-container\" hidden><div class=\"sk-item sk-dashed-wrapped\"><div class=\"sk-label-container\"><div class=\"sk-label sk-toggleable\"><input class=\"sk-toggleable__control sk-hidden--visually\" id=\"sk-estimator-id-1\" type=\"checkbox\" ><label for=\"sk-estimator-id-1\" class=\"sk-toggleable__label sk-toggleable__label-arrow\">GridSearchCV</label><div class=\"sk-toggleable__content\"><pre>GridSearchCV(cv=10, estimator=MLPClassifier(random_state=10), n_jobs=-1,\n",
       "             param_grid={&#x27;hidden_layer_sizes&#x27;: [(5,), (25,), (45,), (65,),\n",
       "                                                (85,)]},\n",
       "             return_train_score=True)</pre></div></div></div><div class=\"sk-parallel\"><div class=\"sk-parallel-item\"><div class=\"sk-item\"><div class=\"sk-label-container\"><div class=\"sk-label sk-toggleable\"><input class=\"sk-toggleable__control sk-hidden--visually\" id=\"sk-estimator-id-2\" type=\"checkbox\" ><label for=\"sk-estimator-id-2\" class=\"sk-toggleable__label sk-toggleable__label-arrow\">estimator: MLPClassifier</label><div class=\"sk-toggleable__content\"><pre>MLPClassifier(random_state=10)</pre></div></div></div><div class=\"sk-serial\"><div class=\"sk-item\"><div class=\"sk-estimator sk-toggleable\"><input class=\"sk-toggleable__control sk-hidden--visually\" id=\"sk-estimator-id-3\" type=\"checkbox\" ><label for=\"sk-estimator-id-3\" class=\"sk-toggleable__label sk-toggleable__label-arrow\">MLPClassifier</label><div class=\"sk-toggleable__content\"><pre>MLPClassifier(random_state=10)</pre></div></div></div></div></div></div></div></div></div></div>"
      ],
      "text/plain": [
       "GridSearchCV(cv=10, estimator=MLPClassifier(random_state=10), n_jobs=-1,\n",
       "             param_grid={'hidden_layer_sizes': [(5,), (25,), (45,), (65,),\n",
       "                                                (85,)]},\n",
       "             return_train_score=True)"
      ]
     },
     "execution_count": 10,
     "metadata": {},
     "output_type": "execute_result"
    }
   ],
   "source": [
    "from sklearn.model_selection import GridSearchCV\n",
    "\n",
    "params = {'hidden_layer_sizes': [(x,) for x in range(5, 86, 20)]}\n",
    "\n",
    "cv_1 = GridSearchCV(param_grid=params, estimator=MLPClassifier(random_state=rs),return_train_score=True, cv=10, n_jobs=-1)\n",
    "cv_1.fit(X_train, y_train)\n",
    "result_set = cv_1.cv_results_\n",
    "print(result_set)"
   ]
  },
  {
   "cell_type": "code",
   "execution_count": 12,
   "id": "473064e5-5ca4-4363-898b-f155cae6807f",
   "metadata": {
    "tags": []
   },
   "outputs": [
    {
     "name": "stdout",
     "output_type": "stream",
     "text": [
      "Total number of models:  5\n"
     ]
    },
    {
     "data": {
      "image/png": "[encoded data removed]",
      "text/plain": [
       "<Figure size 640x480 with 1 Axes>"
      ]
     },
     "metadata": {},
     "output_type": "display_data"
    }
   ],
   "source": [
    "print(cv_1.best_params_)"
   ]
  },
  {
   "cell_type": "code",
   "execution_count": 13,
   "id": "2c7fdcfc-e516-4226-89cc-721e6d46c365",
   "metadata": {
    "tags": []
   },
   "outputs": [
    {
     "name": "stdout",
     "output_type": "stream",
     "text": [
      "Total number of models:  5\n"
     ]
    },
    {
     "data": {
      "image/png": "[encoded data removed]",
      "text/plain": [
       "<Figure size 640x480 with 1 Axes>"
      ]
     },
     "metadata": {},
     "output_type": "display_data"
    }
   ],
   "source": [
    "### Enter your code\n",
    "train_result = result_set['mean_train_score']\n",
    "test_result = result_set['mean_test_score']\n",
    "print(\"Total number of models: \", len(test_result))\n",
    "# plot hidden layers hyperparameter values vs training and test accuracy score\n",
    "plt.plot(range(0, len(train_result)), train_result, 'b', range(0,len(test_result)), test_result, 'r')\n",
    "plt.xlabel('Hyperparameter Hidden_layers\\nBlue = training acc. Red = test acc.')\n",
    "plt.xticks(range(0, len(train_result)),range(5, 86, 20))\n",
    "plt.ylabel('score')\n",
    "plt.show()"
   ]
  },
  {
   "cell_type": "code",
   "execution_count": 14,
   "id": "13b1413c-a3ef-467f-a23b-aaf0170fe441",
   "metadata": {
    "tags": []
   },
   "outputs": [
    {
     "name": "stdout",
     "output_type": "stream",
     "text": [
      "Train accuracy: 0.8729721856699446\n",
      "Test accuracy: 0.8573571462054095\n",
      "              precision    recall  f1-score   support\n",
      "\n",
      "           0       0.88      0.94      0.91     33101\n",
      "           1       0.74      0.56      0.64      9565\n",
      "\n",
      "    accuracy                           0.86     42666\n",
      "   macro avg       0.81      0.75      0.78     42666\n",
      "weighted avg       0.85      0.86      0.85     42666\n",
      "\n",
      "{'hidden_layer_sizes': (25,)}\n"
     ]
    }
   ],
   "source": [
    "print(\"Train accuracy:\", cv_1.score(X_train, y_train))\n",
    "print(\"Test accuracy:\", cv_1.score(X_test, y_test))\n",
    "\n",
    "y_pred = cv_1.predict(X_test)\n",
    "print(classification_report(y_test, y_pred))\n",
    "\n",
    "print(cv_1.best_params_)"
   ]
  },
  {
   "cell_type": "code",
   "execution_count": 9,
   "id": "79a1f1a4-acd3-4903-9a58-ce0492116928",
   "metadata": {},
   "outputs": [
    {
     "name": "stdout",
     "output_type": "stream",
     "text": [
      "{'mean_fit_time': array([ 85.81845374, 173.21200633, 208.3422066 ]), 'std_fit_time': array([24.70815484, 23.85140754, 34.30248311]), 'mean_score_time': array([0.02101002, 0.02545979, 0.02534158]), 'std_score_time': array([0.01009936, 0.00937063, 0.01180751]), 'param_hidden_layer_sizes': masked_array(data=[(15,), (25,), (35,)],\n",
      "             mask=[False, False, False],\n",
      "       fill_value='?',\n",
      "            dtype=object), 'params': [{'hidden_layer_sizes': (15,)}, {'hidden_layer_sizes': (25,)}, {'hidden_layer_sizes': (35,)}], 'split0_test_score': array([0.85787465, 0.85405785, 0.85275211]), 'split1_test_score': array([0.85636802, 0.85707111, 0.85616714]), 'split2_test_score': array([0.85365609, 0.85526316, 0.84803134]), 'split3_test_score': array([0.85886489, 0.85544952, 0.85464591]), 'split4_test_score': array([0.85765947, 0.85966851, 0.85585133]), 'split5_test_score': array([0.85273732, 0.85464591, 0.85253641]), 'split6_test_score': array([0.8615771 , 0.85735811, 0.85896534]), 'split7_test_score': array([0.85554997, 0.85323958, 0.85072828]), 'split8_test_score': array([0.85986941, 0.85896534, 0.85374184]), 'split9_test_score': array([0.85816173, 0.85565043, 0.8494224 ]), 'mean_test_score': array([0.85723186, 0.85613695, 0.85328421]), 'std_test_score': array([0.00257929, 0.00198114, 0.00314836]), 'rank_test_score': array([1, 2, 3]), 'split0_train_score': array([0.86843309, 0.87363416, 0.87812092]), 'split1_train_score': array([0.86851122, 0.87339978, 0.87879058]), 'split2_train_score': array([0.86837729, 0.87401364, 0.87806511]), 'split3_train_score': array([0.86831179, 0.87258644, 0.87844595]), 'split4_train_score': array([0.86824483, 0.87327842, 0.87902632]), 'split5_train_score': array([0.86861314, 0.8728543 , 0.87879194]), 'split6_train_score': array([0.86795464, 0.87484096, 0.87824505]), 'split7_train_score': array([0.86846805, 0.87412665, 0.87833434]), 'split8_train_score': array([0.86791   , 0.87282082, 0.87594589]), 'split9_train_score': array([0.86955066, 0.87413782, 0.8784013 ]), 'mean_train_score': array([0.86843747, 0.8735693 , 0.87821674]), 'std_train_score': array([0.00042946, 0.00067848, 0.00081276])}\n"
     ]
    }
   ],
   "source": [
    "from sklearn.neural_network import MLPClassifier\n",
    "from sklearn.metrics import classification_report, accuracy_score\n",
    "from sklearn.model_selection import GridSearchCV\n",
    "\n",
    "params = {'hidden_layer_sizes': [(15,), (25,), (35,)]}\n",
    "\n",
    "cv_1 = GridSearchCV(param_grid=params, estimator=MLPClassifier(random_state=rs),return_train_score=True, cv=10, n_jobs=-1)\n",
    "cv_1.fit(X_train, y_train)\n",
    "result_set = cv_1.cv_results_\n",
    "print(result_set)"
   ]
  },
  {
   "cell_type": "code",
   "execution_count": 15,
   "id": "1ecc8b1b-6ac6-444d-bf2a-4ff4349605ae",
   "metadata": {
    "tags": []
   },
   "outputs": [],
   "source": [
    "# Have a finer search between 5 and 45 neurons!"
   ]
  },
  {
   "cell_type": "code",
   "execution_count": 12,
   "id": "e375e344-5d50-496b-87c3-475846a9175f",
   "metadata": {
    "tags": []
   },
   "outputs": [
    {
     "name": "stdout",
     "output_type": "stream",
     "text": [
      "Total number of models:  3\n",
      "[0.86843747 0.8735693  0.87821674] [0.85723186 0.85613695 0.85328421]\n"
     ]
    }
   ],
   "source": [
    "result_set = cv_1.cv_results_\n",
    "\n",
    "import matplotlib.pyplot as plt\n",
    "train_result = result_set['mean_train_score']\n",
    "test_result = result_set['mean_test_score']\n",
    "print(\"Total number of models: \", len(test_result))\n",
    "print(train_result, test_result)\n",
    "# plot hidden layers hyperparameter values vs training and test accuracy score\n",
    "# plt.plot(range(0, len(train_result)), train_result, 'b', range(0,len(test_result)), test_result, 'r')\n",
    "# plt.xlabel('Hyperparameter Hidden_layers\\nBlue = training acc. Red = test acc.')\n",
    "# plt.xticks(range(0, 35, 5))\n",
    "# plt.ylabel('score')\n",
    "# plt.show()"
   ]
  },
  {
   "cell_type": "code",
   "execution_count": 13,
   "id": "5f9771f3-92d0-438c-a36b-c83462dfca61",
   "metadata": {
    "tags": []
   },
   "outputs": [],
   "source": [
    "# 15 has slightly better results than 25. In the grid search we will use (10, 15, 20) for number of neurons in the hidden layer "
   ]
  },
  {
   "cell_type": "code",
   "execution_count": null,
   "id": "27310aef-aa10-4106-85bc-813e16df3ee0",
   "metadata": {},
   "outputs": [],
   "source": []
  }
 ],
 "metadata": {
  "kernelspec": {
   "display_name": "Python 3 (ipykernel)",
   "language": "python",
   "name": "python3"
  },
  "language_info": {
   "codemirror_mode": {
    "name": "ipython",
    "version": 3
   },
   "file_extension": ".py",
   "mimetype": "text/x-python",
   "name": "python",
   "nbconvert_exporter": "python",
   "pygments_lexer": "ipython3",
   "version": "3.11.5"
  }
 },
 "nbformat": 4,
 "nbformat_minor": 5
}
